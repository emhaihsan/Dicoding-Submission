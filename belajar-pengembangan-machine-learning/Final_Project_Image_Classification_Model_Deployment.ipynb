{
  "nbformat": 4,
  "nbformat_minor": 0,
  "metadata": {
    "colab": {
      "provenance": [],
      "gpuType": "T4"
    },
    "kernelspec": {
      "name": "python3",
      "display_name": "Python 3"
    },
    "language_info": {
      "name": "python"
    },
    "accelerator": "GPU"
  },
  "cells": [
    {
      "cell_type": "markdown",
      "source": [
        "## Image Classification with Cifar-10 Dataset\n",
        "![](https://production-media.paperswithcode.com/datasets/CIFAR-100-0000000433-b71f61c0_hPEzMRg.jpg)"
      ],
      "metadata": {
        "id": "o1Gq3GPkdjGZ"
      }
    },
    {
      "cell_type": "code",
      "source": [
        "import numpy as np\n",
        "import tensorflow as tf\n",
        "import matplotlib.pyplot as plt\n",
        "from tensorflow.keras import models\n",
        "from tensorflow.keras.datasets import cifar10\n",
        "from tensorflow.keras.utils import to_categorical\n",
        "from sklearn.model_selection import train_test_split\n",
        "from tensorflow.keras.callbacks import ModelCheckpoint, EarlyStopping\n",
        "from tensorflow.keras.layers import Flatten, Dense, Conv2D, MaxPooling2D, Dropout, BatchNormalization"
      ],
      "metadata": {
        "id": "Xv-k2nIedmob"
      },
      "execution_count": 98,
      "outputs": []
    },
    {
      "cell_type": "code",
      "source": [
        "# Load dataset CIFAR-10\n",
        "(train_images, train_labels), (test_images, test_labels) = cifar10.load_data()"
      ],
      "metadata": {
        "id": "3rReRX5CdwZI"
      },
      "execution_count": 99,
      "outputs": []
    },
    {
      "cell_type": "code",
      "source": [
        "train_images.shape, train_labels.shape, test_images.shape, test_labels.shape"
      ],
      "metadata": {
        "colab": {
          "base_uri": "https://localhost:8080/"
        },
        "id": "YE23xgvnd41I",
        "outputId": "2443946d-2a92-4a61-84e5-c8c2e033d6f4"
      },
      "execution_count": 100,
      "outputs": [
        {
          "output_type": "execute_result",
          "data": {
            "text/plain": [
              "((50000, 32, 32, 3), (50000, 1), (10000, 32, 32, 3), (10000, 1))"
            ]
          },
          "metadata": {},
          "execution_count": 100
        }
      ]
    },
    {
      "cell_type": "markdown",
      "source": [
        "Terdapat 50000 data latih dan 10000 data tes dengan ukuran gambar 32 x 32"
      ],
      "metadata": {
        "id": "xXIoJvPBit9Q"
      }
    },
    {
      "cell_type": "code",
      "source": [
        "# Normalisasi data gambar\n",
        "# One Hot Encoding pada data labels\n",
        "# Konversi ke tf tensor\n",
        "num_classes = 10 # Data cifar-100 memiliki 100 label\n",
        "train_images = train_images / 255.0\n",
        "test_images = test_images / 255.0\n",
        "train_labels = to_categorical(train_labels)\n",
        "test_labels = to_categorical(test_labels)"
      ],
      "metadata": {
        "id": "QLrQeCjmeTzu"
      },
      "execution_count": 101,
      "outputs": []
    },
    {
      "cell_type": "code",
      "source": [
        "train_images.shape, train_labels.shape, test_images.shape, test_labels.shape"
      ],
      "metadata": {
        "colab": {
          "base_uri": "https://localhost:8080/"
        },
        "id": "KlKeIjx9eebG",
        "outputId": "c09cbae0-b342-427a-e8b8-53f8d221f1ce"
      },
      "execution_count": 102,
      "outputs": [
        {
          "output_type": "execute_result",
          "data": {
            "text/plain": [
              "((50000, 32, 32, 3), (50000, 10), (10000, 32, 32, 3), (10000, 10))"
            ]
          },
          "metadata": {},
          "execution_count": 102
        }
      ]
    },
    {
      "cell_type": "markdown",
      "source": [
        "Rekonstruksi data latih dan data tes agar memenuhi syarat data tes menggunakan 20% dari keseluruhan data"
      ],
      "metadata": {
        "id": "TiYYp0_irUZQ"
      }
    },
    {
      "cell_type": "code",
      "source": [
        "# Gabungkan data latih dan data tes\n",
        "all_data = np.concatenate((train_images, test_images), axis=0)\n",
        "all_labels = np.concatenate((train_labels, test_labels), axis=0)\n",
        "# Pisahkan kembali menggunakan train test split\n",
        "train_images, test_images, train_labels, test_labels = train_test_split(all_data, all_labels, test_size=0.2, random_state=42)"
      ],
      "metadata": {
        "id": "JgRu-wbOrkB4"
      },
      "execution_count": 103,
      "outputs": []
    },
    {
      "cell_type": "code",
      "source": [
        "# Cek jumlah data\n",
        "train_images.shape, train_labels.shape, test_images.shape, test_labels.shape"
      ],
      "metadata": {
        "colab": {
          "base_uri": "https://localhost:8080/"
        },
        "id": "fM7qgZ8csCax",
        "outputId": "c861db89-e807-416a-e6c8-306c7a85015a"
      },
      "execution_count": 104,
      "outputs": [
        {
          "output_type": "execute_result",
          "data": {
            "text/plain": [
              "((48000, 32, 32, 3), (48000, 10), (12000, 32, 32, 3), (12000, 10))"
            ]
          },
          "metadata": {},
          "execution_count": 104
        }
      ]
    },
    {
      "cell_type": "markdown",
      "source": [
        "Data sudah dibagi dengan benar, 80% data latih, 20% data tes"
      ],
      "metadata": {
        "id": "ZdypHTngwH2E"
      }
    },
    {
      "cell_type": "code",
      "source": [
        "# Konversi ke bentuk tf data\n",
        "train_images = tf.constant(train_images)\n",
        "train_labels = tf.constant(train_labels)\n",
        "test_images = tf.constant(test_images)\n",
        "test_labels = tf.constant(test_labels)"
      ],
      "metadata": {
        "id": "decRyAtKsuok"
      },
      "execution_count": 105,
      "outputs": []
    },
    {
      "cell_type": "code",
      "source": [
        "# Definisikan model\n",
        "# Menggunakan model sekuensial\n",
        "model = models.Sequential()\n",
        "model.add(Conv2D(32, 3, activation='relu', padding='same',input_shape=(32,32,3)))\n",
        "model.add(BatchNormalization())\n",
        "model.add(Conv2D(32, 3, activation='relu', padding='same',))\n",
        "model.add(BatchNormalization())\n",
        "model.add(MaxPooling2D())\n",
        "model.add(Dropout(0.5))\n",
        "\n",
        "model.add(Conv2D(64, 3, activation='relu', padding='same',))\n",
        "model.add(BatchNormalization())\n",
        "model.add(Conv2D(64, 3, activation='relu', padding='same',))\n",
        "model.add(BatchNormalization())\n",
        "model.add(MaxPooling2D())\n",
        "model.add(Dropout(0.5))\n",
        "\n",
        "model.add(Conv2D(128, 3, activation='relu', padding='same',))\n",
        "model.add(BatchNormalization())\n",
        "model.add(Conv2D(128, 3, activation='relu', padding='same',))\n",
        "model.add(BatchNormalization())\n",
        "model.add(MaxPooling2D())\n",
        "model.add(Dropout(0.5))\n",
        "\n",
        "model.add(Flatten())\n",
        "model.add(Dense(256, activation='relu'))\n",
        "model.add(Dropout(0.5))\n",
        "model.add(Dense(num_classes, activation='softmax'))"
      ],
      "metadata": {
        "id": "ojK7omHtfBiK"
      },
      "execution_count": 106,
      "outputs": []
    },
    {
      "cell_type": "code",
      "source": [
        "model.summary()"
      ],
      "metadata": {
        "colab": {
          "base_uri": "https://localhost:8080/"
        },
        "id": "hL_3XO8ggjlq",
        "outputId": "4a776b48-1164-45f8-942c-8ca365402e96"
      },
      "execution_count": 107,
      "outputs": [
        {
          "output_type": "stream",
          "name": "stdout",
          "text": [
            "Model: \"sequential_7\"\n",
            "_________________________________________________________________\n",
            " Layer (type)                Output Shape              Param #   \n",
            "=================================================================\n",
            " conv2d_38 (Conv2D)          (None, 32, 32, 32)        896       \n",
            "                                                                 \n",
            " batch_normalization_36 (Ba  (None, 32, 32, 32)        128       \n",
            " tchNormalization)                                               \n",
            "                                                                 \n",
            " conv2d_39 (Conv2D)          (None, 32, 32, 32)        9248      \n",
            "                                                                 \n",
            " batch_normalization_37 (Ba  (None, 32, 32, 32)        128       \n",
            " tchNormalization)                                               \n",
            "                                                                 \n",
            " max_pooling2d_20 (MaxPooli  (None, 16, 16, 32)        0         \n",
            " ng2D)                                                           \n",
            "                                                                 \n",
            " dropout_20 (Dropout)        (None, 16, 16, 32)        0         \n",
            "                                                                 \n",
            " conv2d_40 (Conv2D)          (None, 16, 16, 64)        18496     \n",
            "                                                                 \n",
            " batch_normalization_38 (Ba  (None, 16, 16, 64)        256       \n",
            " tchNormalization)                                               \n",
            "                                                                 \n",
            " conv2d_41 (Conv2D)          (None, 16, 16, 64)        36928     \n",
            "                                                                 \n",
            " batch_normalization_39 (Ba  (None, 16, 16, 64)        256       \n",
            " tchNormalization)                                               \n",
            "                                                                 \n",
            " max_pooling2d_21 (MaxPooli  (None, 8, 8, 64)          0         \n",
            " ng2D)                                                           \n",
            "                                                                 \n",
            " dropout_21 (Dropout)        (None, 8, 8, 64)          0         \n",
            "                                                                 \n",
            " conv2d_42 (Conv2D)          (None, 8, 8, 128)         73856     \n",
            "                                                                 \n",
            " batch_normalization_40 (Ba  (None, 8, 8, 128)         512       \n",
            " tchNormalization)                                               \n",
            "                                                                 \n",
            " conv2d_43 (Conv2D)          (None, 8, 8, 128)         147584    \n",
            "                                                                 \n",
            " batch_normalization_41 (Ba  (None, 8, 8, 128)         512       \n",
            " tchNormalization)                                               \n",
            "                                                                 \n",
            " max_pooling2d_22 (MaxPooli  (None, 4, 4, 128)         0         \n",
            " ng2D)                                                           \n",
            "                                                                 \n",
            " dropout_22 (Dropout)        (None, 4, 4, 128)         0         \n",
            "                                                                 \n",
            " flatten_5 (Flatten)         (None, 2048)              0         \n",
            "                                                                 \n",
            " dense_10 (Dense)            (None, 256)               524544    \n",
            "                                                                 \n",
            " dropout_23 (Dropout)        (None, 256)               0         \n",
            "                                                                 \n",
            " dense_11 (Dense)            (None, 10)                2570      \n",
            "                                                                 \n",
            "=================================================================\n",
            "Total params: 815914 (3.11 MB)\n",
            "Trainable params: 815018 (3.11 MB)\n",
            "Non-trainable params: 896 (3.50 KB)\n",
            "_________________________________________________________________\n"
          ]
        }
      ]
    },
    {
      "cell_type": "code",
      "source": [
        "# Compile the model\n",
        "model.compile(optimizer='adam',\n",
        "              loss='categorical_crossentropy',\n",
        "              metrics=['accuracy'])"
      ],
      "metadata": {
        "id": "FLqLEBMYhJOQ"
      },
      "execution_count": 108,
      "outputs": []
    },
    {
      "cell_type": "code",
      "source": [
        "# Membuat Callback\n",
        "# ModelCheckpoint untuk menyimpan model terbaik\n",
        "# EarlyStopping untuk menghentikan training ketika performa model sudah tidak meningkat\n",
        "# accuracy_callback untuk menghentikan training ketika performa model sudah mencapai target (val_accucary > 92%)\n",
        "class valTarget(tf.keras.callbacks.Callback):\n",
        "    def on_epoch_end(self, epoch, logs=None):\n",
        "        if logs.get('val_accuracy') > 0.92:\n",
        "            print(f\"\\nReached {0.92*100}% validation accuracy. Stopping training.\")\n",
        "            self.model.stop_training = True\n",
        "\n",
        "checkpoint = ModelCheckpoint(\"model.h5\", monitor='val_accuracy', save_best_only=True)\n",
        "early_stopping = EarlyStopping(monitor='val_loss', patience=5)\n",
        "accuracy_callback = valTarget()"
      ],
      "metadata": {
        "id": "uvdMNLYkh5Ni"
      },
      "execution_count": 109,
      "outputs": []
    },
    {
      "cell_type": "code",
      "source": [
        "# Train the model\n",
        "history = model.fit(train_images, train_labels, epochs=100,\n",
        "                    validation_split=0.2,\n",
        "                    callbacks=[checkpoint, early_stopping, accuracy_callback])"
      ],
      "metadata": {
        "colab": {
          "base_uri": "https://localhost:8080/"
        },
        "id": "9LmyoAp9lcYx",
        "outputId": "910c2171-3aec-4a89-e6b9-f015f64b2282"
      },
      "execution_count": 110,
      "outputs": [
        {
          "output_type": "stream",
          "name": "stdout",
          "text": [
            "Epoch 1/100\n",
            "1200/1200 [==============================] - 16s 10ms/step - loss: 1.8720 - accuracy: 0.3231 - val_loss: 1.6926 - val_accuracy: 0.3907\n",
            "Epoch 2/100\n",
            "   6/1200 [..............................] - ETA: 12s - loss: 1.5258 - accuracy: 0.4844"
          ]
        },
        {
          "output_type": "stream",
          "name": "stderr",
          "text": [
            "/usr/local/lib/python3.10/dist-packages/keras/src/engine/training.py:3079: UserWarning: You are saving your model as an HDF5 file via `model.save()`. This file format is considered legacy. We recommend using instead the native Keras format, e.g. `model.save('my_model.keras')`.\n",
            "  saving_api.save_model(\n"
          ]
        },
        {
          "output_type": "stream",
          "name": "stdout",
          "text": [
            "1200/1200 [==============================] - 12s 10ms/step - loss: 1.4876 - accuracy: 0.4596 - val_loss: 1.5301 - val_accuracy: 0.4994\n",
            "Epoch 3/100\n",
            "1200/1200 [==============================] - 12s 10ms/step - loss: 1.2970 - accuracy: 0.5416 - val_loss: 1.9473 - val_accuracy: 0.4663\n",
            "Epoch 4/100\n",
            "1200/1200 [==============================] - 12s 10ms/step - loss: 1.1727 - accuracy: 0.5906 - val_loss: 1.0993 - val_accuracy: 0.6245\n",
            "Epoch 5/100\n",
            "1200/1200 [==============================] - 12s 10ms/step - loss: 1.0868 - accuracy: 0.6253 - val_loss: 0.8554 - val_accuracy: 0.6971\n",
            "Epoch 6/100\n",
            "1200/1200 [==============================] - 11s 10ms/step - loss: 1.0157 - accuracy: 0.6495 - val_loss: 1.0897 - val_accuracy: 0.6235\n",
            "Epoch 7/100\n",
            "1200/1200 [==============================] - 12s 10ms/step - loss: 0.9565 - accuracy: 0.6706 - val_loss: 0.8223 - val_accuracy: 0.7152\n",
            "Epoch 8/100\n",
            "1200/1200 [==============================] - 11s 10ms/step - loss: 0.9052 - accuracy: 0.6895 - val_loss: 0.7018 - val_accuracy: 0.7589\n",
            "Epoch 9/100\n",
            "1200/1200 [==============================] - 12s 10ms/step - loss: 0.8621 - accuracy: 0.7014 - val_loss: 0.6639 - val_accuracy: 0.7681\n",
            "Epoch 10/100\n",
            "1200/1200 [==============================] - 12s 10ms/step - loss: 0.8222 - accuracy: 0.7191 - val_loss: 0.6589 - val_accuracy: 0.7776\n",
            "Epoch 11/100\n",
            "1200/1200 [==============================] - 11s 9ms/step - loss: 0.7924 - accuracy: 0.7311 - val_loss: 1.0891 - val_accuracy: 0.6525\n",
            "Epoch 12/100\n",
            "1200/1200 [==============================] - 12s 10ms/step - loss: 0.7610 - accuracy: 0.7389 - val_loss: 0.6612 - val_accuracy: 0.7803\n",
            "Epoch 13/100\n",
            "1200/1200 [==============================] - 11s 9ms/step - loss: 0.7317 - accuracy: 0.7499 - val_loss: 0.6823 - val_accuracy: 0.7672\n",
            "Epoch 14/100\n",
            "1200/1200 [==============================] - 12s 10ms/step - loss: 0.7089 - accuracy: 0.7572 - val_loss: 0.5935 - val_accuracy: 0.8004\n",
            "Epoch 15/100\n",
            "1200/1200 [==============================] - 12s 10ms/step - loss: 0.6831 - accuracy: 0.7654 - val_loss: 0.6064 - val_accuracy: 0.7992\n",
            "Epoch 16/100\n",
            "1200/1200 [==============================] - 12s 10ms/step - loss: 0.6660 - accuracy: 0.7711 - val_loss: 0.5985 - val_accuracy: 0.7995\n",
            "Epoch 17/100\n",
            "1200/1200 [==============================] - 12s 10ms/step - loss: 0.6531 - accuracy: 0.7800 - val_loss: 0.6070 - val_accuracy: 0.7934\n",
            "Epoch 18/100\n",
            "1200/1200 [==============================] - 12s 10ms/step - loss: 0.6315 - accuracy: 0.7829 - val_loss: 0.5529 - val_accuracy: 0.8090\n",
            "Epoch 19/100\n",
            "1200/1200 [==============================] - 12s 10ms/step - loss: 0.6150 - accuracy: 0.7881 - val_loss: 0.5691 - val_accuracy: 0.8082\n",
            "Epoch 20/100\n",
            "1200/1200 [==============================] - 13s 11ms/step - loss: 0.6025 - accuracy: 0.7917 - val_loss: 0.6060 - val_accuracy: 0.8007\n",
            "Epoch 21/100\n",
            "1200/1200 [==============================] - 12s 10ms/step - loss: 0.5847 - accuracy: 0.7971 - val_loss: 0.5732 - val_accuracy: 0.8067\n",
            "Epoch 22/100\n",
            "1200/1200 [==============================] - 12s 10ms/step - loss: 0.5748 - accuracy: 0.8027 - val_loss: 0.5452 - val_accuracy: 0.8165\n",
            "Epoch 23/100\n",
            "1200/1200 [==============================] - 11s 9ms/step - loss: 0.5652 - accuracy: 0.8051 - val_loss: 0.5687 - val_accuracy: 0.8092\n",
            "Epoch 24/100\n",
            "1200/1200 [==============================] - 11s 10ms/step - loss: 0.5523 - accuracy: 0.8108 - val_loss: 0.5898 - val_accuracy: 0.7995\n",
            "Epoch 25/100\n",
            "1200/1200 [==============================] - 12s 10ms/step - loss: 0.5501 - accuracy: 0.8101 - val_loss: 0.6230 - val_accuracy: 0.7996\n",
            "Epoch 26/100\n",
            "1200/1200 [==============================] - 12s 10ms/step - loss: 0.5352 - accuracy: 0.8142 - val_loss: 0.5114 - val_accuracy: 0.8331\n",
            "Epoch 27/100\n",
            "1200/1200 [==============================] - 12s 10ms/step - loss: 0.5356 - accuracy: 0.8138 - val_loss: 0.5104 - val_accuracy: 0.8270\n",
            "Epoch 28/100\n",
            "1200/1200 [==============================] - 12s 10ms/step - loss: 0.5191 - accuracy: 0.8222 - val_loss: 0.5312 - val_accuracy: 0.8210\n",
            "Epoch 29/100\n",
            "1200/1200 [==============================] - 12s 10ms/step - loss: 0.5168 - accuracy: 0.8209 - val_loss: 0.4946 - val_accuracy: 0.8342\n",
            "Epoch 30/100\n",
            "1200/1200 [==============================] - 11s 9ms/step - loss: 0.5107 - accuracy: 0.8235 - val_loss: 0.5191 - val_accuracy: 0.8217\n",
            "Epoch 31/100\n",
            "1200/1200 [==============================] - 12s 10ms/step - loss: 0.4953 - accuracy: 0.8301 - val_loss: 0.5002 - val_accuracy: 0.8331\n",
            "Epoch 32/100\n",
            "1200/1200 [==============================] - 12s 10ms/step - loss: 0.4922 - accuracy: 0.8295 - val_loss: 0.4991 - val_accuracy: 0.8360\n",
            "Epoch 33/100\n",
            "1200/1200 [==============================] - 13s 10ms/step - loss: 0.4899 - accuracy: 0.8281 - val_loss: 0.4821 - val_accuracy: 0.8400\n",
            "Epoch 34/100\n",
            "1200/1200 [==============================] - 12s 10ms/step - loss: 0.4823 - accuracy: 0.8337 - val_loss: 0.5016 - val_accuracy: 0.8359\n",
            "Epoch 35/100\n",
            "1200/1200 [==============================] - 12s 10ms/step - loss: 0.4779 - accuracy: 0.8343 - val_loss: 0.4762 - val_accuracy: 0.8420\n",
            "Epoch 36/100\n",
            "1200/1200 [==============================] - 11s 10ms/step - loss: 0.4801 - accuracy: 0.8316 - val_loss: 0.4801 - val_accuracy: 0.8374\n",
            "Epoch 37/100\n",
            "1200/1200 [==============================] - 11s 9ms/step - loss: 0.4647 - accuracy: 0.8399 - val_loss: 0.5030 - val_accuracy: 0.8326\n",
            "Epoch 38/100\n",
            "1200/1200 [==============================] - 12s 10ms/step - loss: 0.4691 - accuracy: 0.8380 - val_loss: 0.4678 - val_accuracy: 0.8472\n",
            "Epoch 39/100\n",
            "1200/1200 [==============================] - 12s 10ms/step - loss: 0.4546 - accuracy: 0.8396 - val_loss: 0.4691 - val_accuracy: 0.8447\n",
            "Epoch 40/100\n",
            "1200/1200 [==============================] - 11s 10ms/step - loss: 0.4547 - accuracy: 0.8420 - val_loss: 0.4754 - val_accuracy: 0.8465\n",
            "Epoch 41/100\n",
            "1200/1200 [==============================] - 12s 10ms/step - loss: 0.4501 - accuracy: 0.8456 - val_loss: 0.4833 - val_accuracy: 0.8431\n",
            "Epoch 42/100\n",
            "1200/1200 [==============================] - 12s 10ms/step - loss: 0.4494 - accuracy: 0.8443 - val_loss: 0.4892 - val_accuracy: 0.8375\n",
            "Epoch 43/100\n",
            "1200/1200 [==============================] - 12s 10ms/step - loss: 0.4442 - accuracy: 0.8468 - val_loss: 0.4767 - val_accuracy: 0.8433\n"
          ]
        }
      ]
    },
    {
      "cell_type": "code",
      "source": [
        "# Plot history pelatihan\n",
        "plt.plot(history.history['accuracy'], label='accuracy')\n",
        "plt.plot(history.history['val_accuracy'], label='val_accuracy')\n",
        "plt.xlabel('Epoch')\n",
        "plt.ylabel('Accuracy')\n",
        "plt.ylim([0, 1])\n",
        "plt.legend(loc='lower right')\n",
        "plt.show()\n",
        "\n",
        "plt.plot(history.history['loss'], label='loss')\n",
        "plt.plot(history.history['val_loss'], label='val_loss')\n",
        "plt.xlabel('Epoch')\n",
        "plt.ylabel('Loss')\n",
        "plt.legend(loc='upper right')\n",
        "plt.show()"
      ],
      "metadata": {
        "colab": {
          "base_uri": "https://localhost:8080/",
          "height": 889
        },
        "id": "XaQjOvpilf2y",
        "outputId": "4067c530-d9e2-4ae6-b940-c31eb03c5976"
      },
      "execution_count": 114,
      "outputs": [
        {
          "output_type": "display_data",
          "data": {
            "text/plain": [
              "<Figure size 640x480 with 1 Axes>"
            ],
            "image/png": "[encoded data removed]"
          },
          "metadata": {}
        },
        {
          "output_type": "display_data",
          "data": {
            "text/plain": [
              "<Figure size 640x480 with 1 Axes>"
            ],
            "image/png": "[encoded data removed]"
          },
          "metadata": {}
        }
      ]
    },
    {
      "cell_type": "code",
      "source": [
        "# Tes load model yang disimpan dan gunakan untuk melakukan evaluasi pada data tes\n",
        "model = tf.keras.models.load_model('model.h5')\n",
        "test_loss, test_acc = model.evaluate(test_images, test_labels)\n",
        "print(f'Test accuracy: {test_acc}')"
      ],
      "metadata": {
        "colab": {
          "base_uri": "https://localhost:8080/"
        },
        "id": "T2NT_K-Ml7U2",
        "outputId": "0da539d3-a292-404e-c544-c70e17458b07"
      },
      "execution_count": 115,
      "outputs": [
        {
          "output_type": "stream",
          "name": "stdout",
          "text": [
            "375/375 [==============================] - 2s 4ms/step - loss: 0.4773 - accuracy: 0.8444\n",
            "Test accuracy: 0.8444166779518127\n"
          ]
        }
      ]
    },
    {
      "cell_type": "code",
      "source": [
        "# Simpan model dalam format tflite\n",
        "converter = tf.lite.TFLiteConverter.from_keras_model(model)\n",
        "tflite_model = converter.convert()\n",
        "with open('model.tflite', 'wb') as f:\n",
        "    f.write(tflite_model)"
      ],
      "metadata": {
        "id": "YIbLrKKemBB5"
      },
      "execution_count": 116,
      "outputs": []
    }
  ]
}