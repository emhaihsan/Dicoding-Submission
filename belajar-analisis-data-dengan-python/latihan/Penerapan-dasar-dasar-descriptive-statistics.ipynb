{
 "cells": [
  {
   "cell_type": "code",
   "execution_count": 1,
   "id": "62a5736b-2fd6-4b49-9ec4-329c2498c99d",
   "metadata": {},
   "outputs": [],
   "source": [
    "import numpy as np\n",
    "import pandas as pd\n",
    "import matplotlib.pyplot as plt"
   ]
  },
  {
   "cell_type": "markdown",
   "id": "91cf1fdb-5bfe-4a3d-81b0-e91022b338b9",
   "metadata": {
    "jp-MarkdownHeadingCollapsed": true
   },
   "source": [
    "# Measuring Central Tendency\n",
    "\n",
    "Measuring central tendency merupakan sekumpulan parameter statistik untuk menggambarkan nilai khas atau sentral yang mewakili keseluruhan observasi atau data. Nilai khas atau sentral tersebut direpresentasikan menggunakan tiga parameter statistik yaitu mean, median, dan mode. "
   ]
  },
  {
   "cell_type": "markdown",
   "id": "af9ef27b-6c39-4897-88e2-faa55177756a",
   "metadata": {},
   "source": [
    "## Mean\n",
    "\n",
    "\n",
    "Mean atau sering juga disebut sebagai expected value merupakan salah satu parameter yang paling sering digunakan untuk menggambarkan nilai khas atau sentral dari suatu data. Ia diperoleh dari menghitung jumlah keseluruhan data dan dibagi dengan banyaknya data yang dimiliki.\n",
    "\n",
    "![](https://dicoding-web-img.sgp1.cdn.digitaloceanspaces.com/original/academy/dos:d427545fe9a529b85ddca264815ce7c020230126161858.jpeg)"
   ]
  },
  {
   "cell_type": "code",
   "execution_count": 2,
   "id": "501644b6-d5ad-4c40-8c21-5cc3f5925c67",
   "metadata": {},
   "outputs": [
    {
     "data": {
      "text/plain": [
       "1.7"
      ]
     },
     "execution_count": 2,
     "metadata": {},
     "output_type": "execute_result"
    }
   ],
   "source": [
    " jumlah_kucing = np.array([3, 2, 1, 1, 2, 3, 2, 1, 0, 2])\n",
    "jumlah_kucing.mean()"
   ]
  },
  {
   "cell_type": "markdown",
   "id": "7eddc67a-cedd-4b54-a3bc-e28b8bb3ac35",
   "metadata": {},
   "source": [
    "Parameter ini sangat sensitif terhadap noise dan outlier yang terdapat dalam sebuah data. Sebagai contoh, apabila kita salah menginput data jumlah kucing yang dimiliki Hanifa menjadi 20 ekor, nilai mean dari data tersebut akan berubah menjadi 3.5. Inilah salah satu alasan kenapa kita tidak boleh hanya menggunakan mean untuk merepresentasikan nilai khas dari suatu data. "
   ]
  },
  {
   "attachments": {},
   "cell_type": "markdown",
   "id": "bf53d90b-e346-4f87-8839-d18377f75f3a",
   "metadata": {},
   "source": [
    "## Median\n",
    "\n",
    "Median merupakan parameter yang merepresentasikan nilai tengah atau persentil ke-50 dari keseluruhan observasi atau data. Parameter ini diperoleh dengan mengambil nilai persentil ke-50 dari data yang telah diurutkan.\n",
    "\n",
    "Untuk data yang berjumlah ganjil, nilai median diperoleh dengan mengambil langsung nilai tengah dari data yang telah diurutkan. Namun, hal ini berbeda jika data yang dimiliki berjumlah genap. Pada kasus seperti ini, kita perlu mengurutkan dan menghitung nilai rata-rata dari dua data yang berada di tengah.\n",
    "\n",
    "![](https://dicoding-web-img.sgp1.cdn.digitaloceanspaces.com/original/academy/dos:6f1469c7d4f27b88169bb4505d1a6c9020230309132311.png)"
   ]
  },
  {
   "cell_type": "code",
   "execution_count": 3,
   "id": "68b105d2-f758-4464-af25-3023ef3492ba",
   "metadata": {},
   "outputs": [
    {
     "data": {
      "text/plain": [
       "2.0"
      ]
     },
     "execution_count": 3,
     "metadata": {},
     "output_type": "execute_result"
    }
   ],
   "source": [
    "jumlah_kucing = np.array([3, 2, 1, 1, 2, 3, 2, 1, 0, 2])\n",
    "np.median(jumlah_kucing)"
   ]
  },
  {
   "cell_type": "markdown",
   "id": "7f397d3c-c0f9-45a7-b466-7afc049dd25d",
   "metadata": {},
   "source": [
    "Sekadar informasi tambahan, pada proses analisis data terkadang kita juga perlu melihat nilai data pada persentil ke-25 dan persentil ke-75. Kedua nilai ini dikenal juga sebagai kuartil pertama (Q1) dan kuartil ketiga (Q3).\n",
    "\n",
    "![](https://dicoding-web-img.sgp1.cdn.digitaloceanspaces.com/original/academy/dos:7ec3154b29acd810a125252feb7a96c820230309132327.png)"
   ]
  },
  {
   "attachments": {},
   "cell_type": "markdown",
   "id": "6171d46d-32a6-4178-99cb-e71820ca11fb",
   "metadata": {},
   "source": [
    "## Mode \n",
    "\n",
    "Parameter ini akan memberikan kita gambaran atau informasi terkait nilai yang paling sering muncul dalam suatu data. Untuk menghitung parameter mode, kita perlu mengurutkan nilai dari suatu data terlebih dahulu. Selanjutnya memilih nilai yang paling sering muncul.\n",
    "\n",
    "![](https://dicoding-web-img.sgp1.cdn.digitaloceanspaces.com/original/academy/dos:94899ab1e4c5cd9d257da6934cee43da20230309132337.png)"
   ]
  },
  {
   "cell_type": "code",
   "execution_count": 4,
   "id": "8f2acaac-a5c8-4183-a575-81a26cdd3ec9",
   "metadata": {},
   "outputs": [
    {
     "name": "stdout",
     "output_type": "stream",
     "text": [
      "2\n"
     ]
    }
   ],
   "source": [
    "from scipy import stats\n",
    " \n",
    "jumlah_kucing = np.array([3, 2, 1, 1, 2, 3, 2, 1, 0, 2])\n",
    "mode_jumlah_kucing = stats.mode(jumlah_kucing)[0]\n",
    " \n",
    "print(mode_jumlah_kucing)"
   ]
  },
  {
   "cell_type": "markdown",
   "id": "d75889ea-cb6a-429f-90ef-dd4ac035ff56",
   "metadata": {},
   "source": [
    "Ketika menggunakan mode, Anda perlu memahami bahwa parameter ini akan mencari nilai yang paling sering muncul. Oleh karena itu, jika suatu data memiliki nilai yang unik, data tersebut tidak memiliki mode. Selain itu, apabila data memiliki lebih dari satu nilai yang paling sering muncul, itu artinya data tersebut memiliki lebih dari satu mode."
   ]
  },
  {
   "cell_type": "markdown",
   "id": "e689a2f7-2018-4e7c-b035-ef67a8e9235c",
   "metadata": {
    "jp-MarkdownHeadingCollapsed": true
   },
   "source": [
    "# Measuring Dispersion\n",
    "\n",
    "Sebuah konsep statistik untuk menilai sebaran dari suatu data yaitu measuring dispersion atau sering juga disebut measures of spread. Ia akan memberikan informasi terkait seberapa jauh suatu titik data dengan titik data lainnya. Hal ini mampu memberikan kita gambaran variasi nilai dari data tersebut. Untuk menggambarkan measuring dispersion, kita dapat menggunakan empat parameter, yaitu range, interquartile range, variance, dan standard deviation."
   ]
  },
  {
   "attachments": {},
   "cell_type": "markdown",
   "id": "620e8ff5-f7e8-44d1-97a4-6930aa2dc964",
   "metadata": {},
   "source": [
    "## Range\n",
    "\n",
    "Parameter pertama yang akan kita bahas adalah range. Ia merupakan parameter yang digunakan untuk melihat perbedaan antara nilai maksimum dan minimum dari suatu data. \n",
    "\n",
    "Untuk menghitung parameter ini, kita perlu mengidentifikasi nilai maksimum dan minimum dari suatu data terlebih dahulu. Selanjutnya, kita mengurangi nilai maksimum dan nilai minimum. Selisih inilah yang menjadi parameter range.\n",
    "\n",
    "![](https://dicoding-web-img.sgp1.cdn.digitaloceanspaces.com/original/academy/dos:b012f4ca28a2fab0211c5527a77ecfbe20230309132432.png)"
   ]
  },
  {
   "cell_type": "code",
   "execution_count": 5,
   "id": "8717d2e0-7beb-4721-9673-9e965adc94ea",
   "metadata": {},
   "outputs": [
    {
     "name": "stdout",
     "output_type": "stream",
     "text": [
      "3\n"
     ]
    }
   ],
   "source": [
    "jumlah_kucing = np.array([3, 2, 1, 1, 2, 3, 2, 1, 0, 2])\n",
    "range = jumlah_kucing.max() - jumlah_kucing.min()\n",
    "print(range)"
   ]
  },
  {
   "cell_type": "markdown",
   "id": "7796508c-90dc-461c-be36-fe10af18ff0c",
   "metadata": {},
   "source": [
    "## Interquartile Range\n",
    "\n",
    "Interquartile Range atau sering disingkat IQR merupakan parameter statistik yang menggambarkan selisih antara kuartil ketiga (Q3) dan kuartil pertama (Q1). Parameter ini mewakili nilai range atau rentang di mana sebagian besar titik data berada.\n",
    "\n",
    "Untuk menghitung IQR, kita perlu menentukan nilai Q1 dan Q3 terlebih dahulu. Selanjutnya, kita dapat menghitung selisih keduanya. Selisih inilah yang menjadi nilai dari parameter IQR. \n",
    "\n",
    "![](https://dicoding-web-img.sgp1.cdn.digitaloceanspaces.com/original/academy/dos:a99520c5a1b9f51f6671f87157a8939d20230309132444.png)\n"
   ]
  },
  {
   "cell_type": "code",
   "execution_count": 6,
   "id": "ea56143e-eff8-4690-8f79-546f6e8e0a10",
   "metadata": {},
   "outputs": [
    {
     "name": "stdout",
     "output_type": "stream",
     "text": [
      "1.0\n"
     ]
    }
   ],
   "source": [
    "jumlah_kucing = np.array([3, 2, 1, 1, 2, 3, 2, 1, 0, 2])\n",
    "iqr = np.percentile(jumlah_kucing, 75) - np.percentile(jumlah_kucing, 25)\n",
    "print(iqr)"
   ]
  },
  {
   "cell_type": "markdown",
   "id": "af6afcaf-802f-4ba5-9642-0c51383b0adb",
   "metadata": {},
   "source": [
    "## Variance\n",
    "\n",
    "Ia merupakan parameter yang digunakan untuk menggambarkan besar simpangan suatu titik data dari nilai mean-nya. \n",
    "\n",
    "Sebelum menghitung nilai variance, kita membutuhkan nilai mean terlebih dahulu. Berikutnya kita perlu menghitung total selisih kuadrat dari seluruh titik data dengan nilai mean-nya. Nilai total tersebut selanjutnya akan dibagi dengan banyak titik data yang dimiliki. Berikut merupakan rumus untuk menghitung variance.\n",
    "\n",
    "![](https://dicoding-web-img.sgp1.cdn.digitaloceanspaces.com/original/academy/dos:29f5abf475e73f95a39f9147ee4f6b5020230126162829.jpeg)"
   ]
  },
  {
   "cell_type": "code",
   "execution_count": 7,
   "id": "9ace219f-28d7-4143-8b8f-4db379b3b0c3",
   "metadata": {},
   "outputs": [
    {
     "data": {
      "text/plain": [
       "0.9000000000000001"
      ]
     },
     "execution_count": 7,
     "metadata": {},
     "output_type": "execute_result"
    }
   ],
   "source": [
    "jumlah_kucing = np.array([3, 2, 1, 1, 2, 3, 2, 1, 0, 2])\n",
    "jumlah_kucing_series = pd.Series(jumlah_kucing)\n",
    "jumlah_kucing_series.var()"
   ]
  },
  {
   "cell_type": "markdown",
   "id": "a285589f-5c6c-4a93-aca1-81863e41f5ba",
   "metadata": {},
   "source": [
    "## Standard Deviation\n",
    "\n",
    "Pada perhitungan variance kita sebenarnya telah menghitung rata-rata selisih kuadrat antar titik data dan nilai mean-nya. Penggunaan selisih kuadrat ini membuat unit dari parameter variance berbeda dengan unit data sehingga cukup sulit untuk diinterpretasikan. Oleh karena itu, kita membutuhkan satu parameter lain yang akan menghitung akar kuadrat dari variance. Parameter tersebut bernama standard deviation.\n",
    "\n",
    "![](https://dicoding-web-img.sgp1.cdn.digitaloceanspaces.com/original/academy/dos:f12d1d8be697d17929af6aaf1b4f3af920230126162829.jpeg)\n",
    "![](https://dicoding-web-img.sgp1.cdn.digitaloceanspaces.com/original/academy/dos:fd036ac2fbbdaaa176d92ff63f6aef6520230126162829.jpeg)"
   ]
  },
  {
   "cell_type": "code",
   "execution_count": 8,
   "id": "69437db2-e2a5-4b9e-9476-52ca8cab5676",
   "metadata": {},
   "outputs": [
    {
     "data": {
      "text/plain": [
       "0.9486832980505139"
      ]
     },
     "execution_count": 8,
     "metadata": {},
     "output_type": "execute_result"
    }
   ],
   "source": [
    "jumlah_kucing = np.array([3, 2, 1, 1, 2, 3, 2, 1, 0, 2])\n",
    "jumlah_kucing_series = pd.Series(jumlah_kucing)\n",
    "jumlah_kucing_series.std()"
   ]
  },
  {
   "cell_type": "markdown",
   "id": "2123825c-1887-46ad-bb2a-dac3687da866",
   "metadata": {
    "jp-MarkdownHeadingCollapsed": true
   },
   "source": [
    "# Measuring Asymmetric\n",
    "\n",
    "Measuring asymmetric merupakan konsep statistik yang digunakan untuk mengidentifikasi ketidaksimetrisan dalam sebuah distribusi data numerik. Parameter statistik yang umum digunakan dalam measuring asymmetric ialah skewness. "
   ]
  },
  {
   "cell_type": "markdown",
   "id": "be9adec2-ef68-4ece-8f71-2ba9bd36e951",
   "metadata": {},
   "source": [
    "## Distribusi Data\n",
    "* **Symmetric distribution**\n",
    "\n",
    "Symmetric distribution (normal distribution atau bell curve distribution) merupakan suatu distribusi data yang memungkinkan kita untuk membagi data menjadi dua bagian secara simetris. Distribusi data ini memiliki nilai mean, median, serta mode yang sama dan berada di sentral distribusi data.\n",
    "![](https://dicoding-web-img.sgp1.cdn.digitaloceanspaces.com/original/academy/dos:55be6424497017cbf34ed234413474c920230309132557.png)\n",
    "\n",
    "* **Right-skewed distribution**\n",
    "\n",
    "Right-skewed distribution merupakan distribusi data yang memiliki sebagian besar populasi data yang terkonsentrasi pada bagian kiri. Distribusi data ini memiliki nilai mean lebih besar dari nilai median dan juga mode.\n",
    "![](https://dicoding-web-img.sgp1.cdn.digitaloceanspaces.com/original/academy/dos:bd32b52d9e878d76b2e1dbb4209af02920230309132614.png)\n",
    "\n",
    "* **Left-skewed distribution**\n",
    "\n",
    "Left-skewed distribution merupakan distribusi data yang terjadi ketika sebagian besar populasi data berada pada bagian kanan. Umumnya distribusi ini memiliki nilai median dan mode yang lebih besar dari nilai mean.\n",
    "![](https://dicoding-web-img.sgp1.cdn.digitaloceanspaces.com/original/academy/dos:655e45a7084450347bb473bc20d15b0520230309132630.png)\n"
   ]
  },
  {
   "cell_type": "code",
   "execution_count": 9,
   "id": "bf4921af-8527-4db7-a435-3a8ffd224841",
   "metadata": {},
   "outputs": [
    {
     "data": {
      "image/png": "[encoded data removed]",
      "text/plain": [
       "<Figure size 640x480 with 1 Axes>"
      ]
     },
     "metadata": {},
     "output_type": "display_data"
    }
   ],
   "source": [
    "jumlah_kucing = np.array([3, 2, 1, 1, 2, 3, 2, 1, 0, 2])\n",
    "plt.hist(jumlah_kucing, bins=4)\n",
    "plt.show()"
   ]
  },
  {
   "cell_type": "markdown",
   "id": "072b60cc-f2b5-4b1e-a87a-f9e713bb746f",
   "metadata": {},
   "source": [
    "## Skewness\n",
    "\n",
    "Skewness merupakan parameter statistik yang digunakan untuk mengukur kesimetrisan sebuah distribusi data. Ia mampu memberikan kita gambaran tentang banyaknya data yang menyimpang dari symmetric distribution. Parameter ini memiliki jangkauan nilai mulai dari negatif hingga positif.\n",
    "\n",
    "* Nilai skewness positif menggambarkan data yang memiliki distribusi yang cenderung right-skewed.\n",
    "* Nilai skewness nol menggambarkan data yang memiliki distribusi simetris sempurna.\n",
    "* Nilai skewness negatif merepresentasikan data dengan distribusi yang cenderung left-skewed."
   ]
  },
  {
   "cell_type": "code",
   "execution_count": 10,
   "id": "788e2b50-804b-4499-b69a-7cc840559b24",
   "metadata": {},
   "outputs": [
    {
     "data": {
      "text/plain": [
       "-0.2342427896421018"
      ]
     },
     "execution_count": 10,
     "metadata": {},
     "output_type": "execute_result"
    }
   ],
   "source": [
    "jumlah_kucing = np.array([3, 2, 1, 1, 2, 3, 2, 1, 0, 2])\n",
    "jumlah_kucing_series = pd.Series(jumlah_kucing)\n",
    "jumlah_kucing_series.skew()"
   ]
  },
  {
   "cell_type": "markdown",
   "id": "79b3dc06-34fd-4544-9df0-c675d8e4ce90",
   "metadata": {},
   "source": [
    "# Data Relationship\n",
    "\n",
    "By definition, data relationship merupakan konsep statistik untuk mengidentifikasi hubungan antar feature bertipe numerik dalam sebuah data. Untuk mengidentifikasi hubungan antar feature bertipe numerik, kita bisa menggunakan dua parameter yaitu correlation dan covariance. "
   ]
  },
  {
   "cell_type": "markdown",
   "id": "f1b1f61a-3b38-4dc3-ab04-60d5f40a165b",
   "metadata": {},
   "source": [
    "## Correlation\n",
    "\n",
    "Parameter ini digunakan untuk mengidentifikasi korelasi atau hubungan dari dua feature numerik dalam sebuah data. Korelasi ini digambarkan menggunakan nilai dengan rentang -1 hingga 1.\n",
    "\n",
    "Pada parameter correlation, nilai negatif menggambarkan korelasi berlawanan (negative correlation), sedangkan nilai positif merepresentasikan korelasi bersesuaian (positive correlation). Jika correlation dari dua feature bernilai nol, keduanya dinyatakan tidak memiliki korelasi (no correlation).\n",
    "\n",
    "![](https://dicoding-web-img.sgp1.cdn.digitaloceanspaces.com/original/academy/dos:54aa188e366ee32fb428a6938df3151820230309132752.png)"
   ]
  },
  {
   "cell_type": "code",
   "execution_count": 11,
   "id": "b0256ccc-aedc-4e84-b350-7290b922239c",
   "metadata": {},
   "outputs": [
    {
     "data": {
      "text/html": [
       "<div>\n",
       "<style scoped>\n",
       "    .dataframe tbody tr th:only-of-type {\n",
       "        vertical-align: middle;\n",
       "    }\n",
       "\n",
       "    .dataframe tbody tr th {\n",
       "        vertical-align: top;\n",
       "    }\n",
       "\n",
       "    .dataframe thead th {\n",
       "        text-align: right;\n",
       "    }\n",
       "</style>\n",
       "<table border=\"1\" class=\"dataframe\">\n",
       "  <thead>\n",
       "    <tr style=\"text-align: right;\">\n",
       "      <th></th>\n",
       "      <th>age</th>\n",
       "      <th>communication_skill_score</th>\n",
       "      <th>quantitative_skill_score</th>\n",
       "    </tr>\n",
       "  </thead>\n",
       "  <tbody>\n",
       "    <tr>\n",
       "      <th>age</th>\n",
       "      <td>1.000000</td>\n",
       "      <td>0.848855</td>\n",
       "      <td>-0.922489</td>\n",
       "    </tr>\n",
       "    <tr>\n",
       "      <th>communication_skill_score</th>\n",
       "      <td>0.848855</td>\n",
       "      <td>1.000000</td>\n",
       "      <td>-0.890724</td>\n",
       "    </tr>\n",
       "    <tr>\n",
       "      <th>quantitative_skill_score</th>\n",
       "      <td>-0.922489</td>\n",
       "      <td>-0.890724</td>\n",
       "      <td>1.000000</td>\n",
       "    </tr>\n",
       "  </tbody>\n",
       "</table>\n",
       "</div>"
      ],
      "text/plain": [
       "                                age  communication_skill_score  \\\n",
       "age                        1.000000                   0.848855   \n",
       "communication_skill_score  0.848855                   1.000000   \n",
       "quantitative_skill_score  -0.922489                  -0.890724   \n",
       "\n",
       "                           quantitative_skill_score  \n",
       "age                                       -0.922489  \n",
       "communication_skill_score                 -0.890724  \n",
       "quantitative_skill_score                   1.000000  "
      ]
     },
     "execution_count": 11,
     "metadata": {},
     "output_type": "execute_result"
    }
   ],
   "source": [
    "sample_data = {\n",
    "    'name': ['John', 'Alia', 'Ananya', 'Steve', 'Ben'],\n",
    "    'age': [24, 22, 23, 25, 28],  \n",
    "    'communication_skill_score': [85, 70, 75, 90, 90],\n",
    "    'quantitative_skill_score': [80, 90, 80, 75, 70]\n",
    "}\n",
    " \n",
    "df = pd.DataFrame(sample_data)\n",
    " \n",
    "df.corr(numeric_only=True)"
   ]
  },
  {
   "cell_type": "markdown",
   "id": "e65be163-a470-4bd2-b469-a353135779d0",
   "metadata": {},
   "source": [
    "Pada tabel korelasi di atas, dapat dilihat bahwa feature age dan communication_skill_score memiliki korelasi cukup bersesuaian. Sebaliknya, feature age dan quantitative_skill_score memiliki korelasi yang sangat berlawanan."
   ]
  },
  {
   "cell_type": "markdown",
   "id": "16c58453-ca14-4c19-9234-3b863e18ba07",
   "metadata": {},
   "source": [
    "## Covariance\n",
    "\n",
    "Berdasarkan nilainya, covariance terbagi menjadi tiga bagian seperti berikut.\n",
    "\n",
    "* Positive covariance yang menggambarkan dua feature yang berkorelasi positif atau bersesuaian.\n",
    "* Negative covariance yang merepresentasikan dua feature yang berkorelasi negatif atau berlawanan.\n",
    "* Zero covariance yang menandakan dua feature yang tidak berkorelasi satu sama lain.\n"
   ]
  },
  {
   "cell_type": "code",
   "execution_count": 12,
   "id": "8ca89d03-5c3b-4bce-87b5-dd91192bf46e",
   "metadata": {},
   "outputs": [
    {
     "data": {
      "text/html": [
       "<div>\n",
       "<style scoped>\n",
       "    .dataframe tbody tr th:only-of-type {\n",
       "        vertical-align: middle;\n",
       "    }\n",
       "\n",
       "    .dataframe tbody tr th {\n",
       "        vertical-align: top;\n",
       "    }\n",
       "\n",
       "    .dataframe thead th {\n",
       "        text-align: right;\n",
       "    }\n",
       "</style>\n",
       "<table border=\"1\" class=\"dataframe\">\n",
       "  <thead>\n",
       "    <tr style=\"text-align: right;\">\n",
       "      <th></th>\n",
       "      <th>age</th>\n",
       "      <th>communication_skill_score</th>\n",
       "      <th>quantitative_skill_score</th>\n",
       "    </tr>\n",
       "  </thead>\n",
       "  <tbody>\n",
       "    <tr>\n",
       "      <th>age</th>\n",
       "      <td>5.30</td>\n",
       "      <td>17.75</td>\n",
       "      <td>-15.75</td>\n",
       "    </tr>\n",
       "    <tr>\n",
       "      <th>communication_skill_score</th>\n",
       "      <td>17.75</td>\n",
       "      <td>82.50</td>\n",
       "      <td>-60.00</td>\n",
       "    </tr>\n",
       "    <tr>\n",
       "      <th>quantitative_skill_score</th>\n",
       "      <td>-15.75</td>\n",
       "      <td>-60.00</td>\n",
       "      <td>55.00</td>\n",
       "    </tr>\n",
       "  </tbody>\n",
       "</table>\n",
       "</div>"
      ],
      "text/plain": [
       "                             age  communication_skill_score  \\\n",
       "age                         5.30                      17.75   \n",
       "communication_skill_score  17.75                      82.50   \n",
       "quantitative_skill_score  -15.75                     -60.00   \n",
       "\n",
       "                           quantitative_skill_score  \n",
       "age                                          -15.75  \n",
       "communication_skill_score                    -60.00  \n",
       "quantitative_skill_score                      55.00  "
      ]
     },
     "execution_count": 12,
     "metadata": {},
     "output_type": "execute_result"
    }
   ],
   "source": [
    "sample_data = {\n",
    "    'name': ['John', 'Alia', 'Ananya', 'Steve', 'Ben'],\n",
    "    'age': [24, 22, 23, 25, 28],  \n",
    "    'communication_skill_score': [85, 70, 75, 90, 90],\n",
    "    'quantitative_skill_score': [80, 90, 80, 75, 70]\n",
    "}\n",
    " \n",
    "df = pd.DataFrame(sample_data)\n",
    " \n",
    "df.cov(numeric_only=True)"
   ]
  },
  {
   "cell_type": "markdown",
   "id": "d0ec8f5c-6627-448d-9e64-3987a60587d2",
   "metadata": {},
   "source": [
    "Jika Anda perhatikan, nilai covariance yang diperoleh memiliki skala yang belum ternormalisasi. Inilah yang menjadi salah satu kesulitan dalam menginterpretasi nilai covariance dari sebuah data."
   ]
  },
  {
   "cell_type": "code",
   "execution_count": null,
   "id": "1a20b506-f4e2-4234-aeb7-3d37f9075908",
   "metadata": {},
   "outputs": [],
   "source": []
  }
 ],
 "metadata": {
  "kernelspec": {
   "display_name": "Python [conda env:belajar]",
   "language": "python",
   "name": "conda-env-belajar-py"
  },
  "language_info": {
   "codemirror_mode": {
    "name": "ipython",
    "version": 3
   },
   "file_extension": ".py",
   "mimetype": "text/x-python",
   "name": "python",
   "nbconvert_exporter": "python",
   "pygments_lexer": "ipython3",
   "version": "3.10.13"
  }
 },
 "nbformat": 4,
 "nbformat_minor": 5
}
