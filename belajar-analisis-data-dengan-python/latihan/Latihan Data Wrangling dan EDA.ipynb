{
 "cells": [
  {
   "cell_type": "code",
   "execution_count": 4,
   "id": "e5d29cb4-681e-42a1-82c2-a3bba02cbfaa",
   "metadata": {},
   "outputs": [
    {
     "ename": "ImportError",
     "evalue": "cannot import name '_raise_version_warning' from 'PIL' (/Users/mhihsan/miniconda3/envs/belajar/lib/python3.10/site-packages/PIL/__init__.py)",
     "output_type": "error",
     "traceback": [
      "\u001b[0;31m---------------------------------------------------------------------------\u001b[0m",
      "\u001b[0;31mImportError\u001b[0m                               Traceback (most recent call last)",
      "Cell \u001b[0;32mIn[4], line 3\u001b[0m\n\u001b[1;32m      1\u001b[0m \u001b[38;5;28;01mimport\u001b[39;00m \u001b[38;5;21;01mnumpy\u001b[39;00m \u001b[38;5;28;01mas\u001b[39;00m \u001b[38;5;21;01mnp\u001b[39;00m\n\u001b[1;32m      2\u001b[0m \u001b[38;5;28;01mimport\u001b[39;00m \u001b[38;5;21;01mpandas\u001b[39;00m \u001b[38;5;28;01mas\u001b[39;00m \u001b[38;5;21;01mpd\u001b[39;00m\n\u001b[0;32m----> 3\u001b[0m \u001b[38;5;28;01mimport\u001b[39;00m \u001b[38;5;21;01mmatplotlib\u001b[39;00m\u001b[38;5;21;01m.\u001b[39;00m\u001b[38;5;21;01mpyplot\u001b[39;00m \u001b[38;5;28;01mas\u001b[39;00m \u001b[38;5;21;01mplt\u001b[39;00m\n\u001b[1;32m      4\u001b[0m \u001b[38;5;28;01mimport\u001b[39;00m \u001b[38;5;21;01mseaborn\u001b[39;00m \u001b[38;5;28;01mas\u001b[39;00m \u001b[38;5;21;01msns\u001b[39;00m\n",
      "File \u001b[0;32m~/miniconda3/envs/belajar/lib/python3.10/site-packages/matplotlib/__init__.py:129\u001b[0m\n\u001b[1;32m    125\u001b[0m \u001b[38;5;28;01mfrom\u001b[39;00m \u001b[38;5;21;01mpackaging\u001b[39;00m\u001b[38;5;21;01m.\u001b[39;00m\u001b[38;5;21;01mversion\u001b[39;00m \u001b[38;5;28;01mimport\u001b[39;00m parse \u001b[38;5;28;01mas\u001b[39;00m parse_version\n\u001b[1;32m    127\u001b[0m \u001b[38;5;66;03m# cbook must import matplotlib only within function\u001b[39;00m\n\u001b[1;32m    128\u001b[0m \u001b[38;5;66;03m# definitions, so it is safe to import from it here.\u001b[39;00m\n\u001b[0;32m--> 129\u001b[0m \u001b[38;5;28;01mfrom\u001b[39;00m \u001b[38;5;21;01m.\u001b[39;00m \u001b[38;5;28;01mimport\u001b[39;00m _api, _version, cbook, _docstring, rcsetup\n\u001b[1;32m    130\u001b[0m \u001b[38;5;28;01mfrom\u001b[39;00m \u001b[38;5;21;01mmatplotlib\u001b[39;00m\u001b[38;5;21;01m.\u001b[39;00m\u001b[38;5;21;01mcbook\u001b[39;00m \u001b[38;5;28;01mimport\u001b[39;00m sanitize_sequence\n\u001b[1;32m    131\u001b[0m \u001b[38;5;28;01mfrom\u001b[39;00m \u001b[38;5;21;01mmatplotlib\u001b[39;00m\u001b[38;5;21;01m.\u001b[39;00m\u001b[38;5;21;01m_api\u001b[39;00m \u001b[38;5;28;01mimport\u001b[39;00m MatplotlibDeprecationWarning\n",
      "File \u001b[0;32m~/miniconda3/envs/belajar/lib/python3.10/site-packages/matplotlib/rcsetup.py:27\u001b[0m\n\u001b[1;32m     25\u001b[0m \u001b[38;5;28;01mfrom\u001b[39;00m \u001b[38;5;21;01mmatplotlib\u001b[39;00m \u001b[38;5;28;01mimport\u001b[39;00m _api, cbook\n\u001b[1;32m     26\u001b[0m \u001b[38;5;28;01mfrom\u001b[39;00m \u001b[38;5;21;01mmatplotlib\u001b[39;00m\u001b[38;5;21;01m.\u001b[39;00m\u001b[38;5;21;01mcbook\u001b[39;00m \u001b[38;5;28;01mimport\u001b[39;00m ls_mapper\n\u001b[0;32m---> 27\u001b[0m \u001b[38;5;28;01mfrom\u001b[39;00m \u001b[38;5;21;01mmatplotlib\u001b[39;00m\u001b[38;5;21;01m.\u001b[39;00m\u001b[38;5;21;01mcolors\u001b[39;00m \u001b[38;5;28;01mimport\u001b[39;00m Colormap, is_color_like\n\u001b[1;32m     28\u001b[0m \u001b[38;5;28;01mfrom\u001b[39;00m \u001b[38;5;21;01mmatplotlib\u001b[39;00m\u001b[38;5;21;01m.\u001b[39;00m\u001b[38;5;21;01m_fontconfig_pattern\u001b[39;00m \u001b[38;5;28;01mimport\u001b[39;00m parse_fontconfig_pattern\n\u001b[1;32m     29\u001b[0m \u001b[38;5;28;01mfrom\u001b[39;00m \u001b[38;5;21;01mmatplotlib\u001b[39;00m\u001b[38;5;21;01m.\u001b[39;00m\u001b[38;5;21;01m_enums\u001b[39;00m \u001b[38;5;28;01mimport\u001b[39;00m JoinStyle, CapStyle\n",
      "File \u001b[0;32m~/miniconda3/envs/belajar/lib/python3.10/site-packages/matplotlib/colors.py:51\u001b[0m\n\u001b[1;32m     49\u001b[0m \u001b[38;5;28;01mfrom\u001b[39;00m \u001b[38;5;21;01mnumbers\u001b[39;00m \u001b[38;5;28;01mimport\u001b[39;00m Number\n\u001b[1;32m     50\u001b[0m \u001b[38;5;28;01mimport\u001b[39;00m \u001b[38;5;21;01mre\u001b[39;00m\n\u001b[0;32m---> 51\u001b[0m \u001b[38;5;28;01mfrom\u001b[39;00m \u001b[38;5;21;01mPIL\u001b[39;00m \u001b[38;5;28;01mimport\u001b[39;00m Image\n\u001b[1;32m     52\u001b[0m \u001b[38;5;28;01mfrom\u001b[39;00m \u001b[38;5;21;01mPIL\u001b[39;00m\u001b[38;5;21;01m.\u001b[39;00m\u001b[38;5;21;01mPngImagePlugin\u001b[39;00m \u001b[38;5;28;01mimport\u001b[39;00m PngInfo\n\u001b[1;32m     54\u001b[0m \u001b[38;5;28;01mimport\u001b[39;00m \u001b[38;5;21;01mmatplotlib\u001b[39;00m \u001b[38;5;28;01mas\u001b[39;00m \u001b[38;5;21;01mmpl\u001b[39;00m\n",
      "File \u001b[0;32m~/miniconda3/envs/belajar/lib/python3.10/site-packages/PIL/Image.py:50\u001b[0m\n\u001b[1;32m     45\u001b[0m     ElementTree \u001b[38;5;241m=\u001b[39m \u001b[38;5;28;01mNone\u001b[39;00m\n\u001b[1;32m     47\u001b[0m \u001b[38;5;66;03m# VERSION was removed in Pillow 6.0.0.\u001b[39;00m\n\u001b[1;32m     48\u001b[0m \u001b[38;5;66;03m# PILLOW_VERSION is deprecated and will be removed in a future release.\u001b[39;00m\n\u001b[1;32m     49\u001b[0m \u001b[38;5;66;03m# Use __version__ instead.\u001b[39;00m\n\u001b[0;32m---> 50\u001b[0m \u001b[38;5;28;01mfrom\u001b[39;00m \u001b[38;5;21;01m.\u001b[39;00m \u001b[38;5;28;01mimport\u001b[39;00m (\n\u001b[1;32m     51\u001b[0m     ImageMode,\n\u001b[1;32m     52\u001b[0m     TiffTags,\n\u001b[1;32m     53\u001b[0m     UnidentifiedImageError,\n\u001b[1;32m     54\u001b[0m     __version__,\n\u001b[1;32m     55\u001b[0m     _plugins,\n\u001b[1;32m     56\u001b[0m     _raise_version_warning,\n\u001b[1;32m     57\u001b[0m )\n\u001b[1;32m     58\u001b[0m \u001b[38;5;28;01mfrom\u001b[39;00m \u001b[38;5;21;01m.\u001b[39;00m\u001b[38;5;21;01m_binary\u001b[39;00m \u001b[38;5;28;01mimport\u001b[39;00m i32le\n\u001b[1;32m     59\u001b[0m \u001b[38;5;28;01mfrom\u001b[39;00m \u001b[38;5;21;01m.\u001b[39;00m\u001b[38;5;21;01m_util\u001b[39;00m \u001b[38;5;28;01mimport\u001b[39;00m deferred_error, isPath\n",
      "\u001b[0;31mImportError\u001b[0m: cannot import name '_raise_version_warning' from 'PIL' (/Users/mhihsan/miniconda3/envs/belajar/lib/python3.10/site-packages/PIL/__init__.py)"
     ]
    }
   ],
   "source": [
    "import numpy as np\n",
    "import pandas as pd\n",
    "import matplotlib.pyplot as plt\n",
    "import seaborn as sns"
   ]
  },
  {
   "cell_type": "markdown",
   "id": "6244a03a-9584-43fd-894e-629ec3556417",
   "metadata": {},
   "source": [
    "# Data Wrangling"
   ]
  },
  {
   "cell_type": "markdown",
   "id": "ccf5b349-d19b-4e48-8ac3-7fdd43cb7923",
   "metadata": {},
   "source": [
    "## Gathering Data"
   ]
  },
  {
   "cell_type": "code",
   "execution_count": null,
   "id": "ce4c87ce-91dc-4ec7-a4fb-0b6c26390692",
   "metadata": {},
   "outputs": [],
   "source": [
    "# Memuat tabel customers\n",
    "customers_df = pd.read_csv(\"https://raw.githubusercontent.com/dicodingacademy/dicoding_dataset/main/DicodingCollection/customers.csv\")\n",
    "customers_df.head()"
   ]
  },
  {
   "cell_type": "code",
   "execution_count": null,
   "id": "6047d901-be85-4b18-b0b2-072f568256f7",
   "metadata": {},
   "outputs": [],
   "source": [
    "# Load tabel orders\n",
    "orders_df = pd.read_csv(\"https://raw.githubusercontent.com/dicodingacademy/dicoding_dataset/main/DicodingCollection/orders.csv\")\n",
    "orders_df.head()"
   ]
  },
  {
   "cell_type": "code",
   "execution_count": null,
   "id": "ff303777-765a-42ea-bd04-b075f145e526",
   "metadata": {},
   "outputs": [],
   "source": [
    "# Memuat tabel products\n",
    "product_df = pd.read_csv(\"https://raw.githubusercontent.com/dicodingacademy/dicoding_dataset/main/DicodingCollection/products.csv\")\n",
    "product_df.head()"
   ]
  },
  {
   "cell_type": "code",
   "execution_count": null,
   "id": "229e133f-c4b8-452a-b288-b4aaa01f3905",
   "metadata": {},
   "outputs": [],
   "source": [
    "# Memuat tabel sales\n",
    "sales_df = pd.read_csv(\"https://raw.githubusercontent.com/dicodingacademy/dicoding_dataset/main/DicodingCollection/sales.csv\")\n",
    "sales_df.head()"
   ]
  },
  {
   "cell_type": "markdown",
   "id": "a97a8a76-abda-45bb-b760-107b849c24c1",
   "metadata": {},
   "source": [
    "## Assessing Data"
   ]
  },
  {
   "cell_type": "markdown",
   "id": "85468ce9-a068-46ad-844f-8703b6675e4b",
   "metadata": {},
   "source": [
    "### Menilai customers_df"
   ]
  },
  {
   "cell_type": "code",
   "execution_count": null,
   "id": "bfeeb3fb-e5ab-4f40-b5e7-3c326a41636c",
   "metadata": {},
   "outputs": [],
   "source": [
    "customers_df.info()"
   ]
  },
  {
   "cell_type": "code",
   "execution_count": null,
   "id": "fc870cc8-6a07-4ed0-8544-62870b417ccc",
   "metadata": {},
   "outputs": [],
   "source": [
    "customers_df.isna().sum()"
   ]
  },
  {
   "cell_type": "code",
   "execution_count": null,
   "id": "c18b0e1d-b5ba-4253-a35f-8b0cea52749e",
   "metadata": {},
   "outputs": [],
   "source": [
    "print(\"Jumlah duplikasi: \", customers_df.duplicated().sum())\n"
   ]
  },
  {
   "cell_type": "code",
   "execution_count": null,
   "id": "fce6fc52-1716-487c-8c30-e801548390cb",
   "metadata": {},
   "outputs": [],
   "source": [
    "customers_df.describe()"
   ]
  },
  {
   "cell_type": "markdown",
   "id": "6f3752bf-b634-4451-9812-98e08d5dff76",
   "metadata": {},
   "source": [
    "### Menilai Orders_df"
   ]
  },
  {
   "cell_type": "code",
   "execution_count": null,
   "id": "deedd32a-5c40-4059-904a-ad37c5b140e7",
   "metadata": {},
   "outputs": [],
   "source": [
    "orders_df.info()\n"
   ]
  },
  {
   "cell_type": "code",
   "execution_count": null,
   "id": "3ab8349b-eed7-4669-a1f6-f5799a744f54",
   "metadata": {},
   "outputs": [],
   "source": [
    "print(\"Jumlah duplikasi: \",orders_df.duplicated().sum())\n",
    "orders_df.describe()"
   ]
  },
  {
   "cell_type": "markdown",
   "id": "41560b05-2d66-4f03-a647-3157b86c046e",
   "metadata": {},
   "source": [
    "### Menilai Product_df"
   ]
  },
  {
   "cell_type": "code",
   "execution_count": null,
   "id": "2300ad72-5c03-45f6-aaf6-31baeb103b82",
   "metadata": {},
   "outputs": [],
   "source": [
    "product_df.info()\n"
   ]
  },
  {
   "cell_type": "code",
   "execution_count": null,
   "id": "744abc3e-1bdc-43cd-8675-f84f1015cfa3",
   "metadata": {},
   "outputs": [],
   "source": [
    "print(\"Jumlah duplikasi: \", product_df.duplicated().sum())\n",
    " \n",
    "product_df.describe()"
   ]
  },
  {
   "cell_type": "markdown",
   "id": "4846ed1d-65a9-4071-aaa2-fcefb69dd823",
   "metadata": {},
   "source": [
    "### Menilai Sales_df"
   ]
  },
  {
   "cell_type": "code",
   "execution_count": null,
   "id": "d79f0d4a-f440-4f86-a643-04336672b298",
   "metadata": {},
   "outputs": [],
   "source": [
    "sales_df.info()"
   ]
  },
  {
   "cell_type": "code",
   "execution_count": null,
   "id": "f573a58c-fa48-4929-a376-9f0104d9ed9b",
   "metadata": {},
   "outputs": [],
   "source": [
    "sales_df.isna().sum()\n"
   ]
  },
  {
   "cell_type": "code",
   "execution_count": null,
   "id": "da6f27ac-b08d-4c10-af8e-569dc79a70bf",
   "metadata": {},
   "outputs": [],
   "source": [
    "print(\"Jumlah duplikasi: \", sales_df.duplicated().sum())\n",
    "sales_df.describe()"
   ]
  },
  {
   "cell_type": "markdown",
   "id": "716e4ed7-1e94-4417-a1bf-8e98bf252b43",
   "metadata": {},
   "source": [
    "## Cleaning Data"
   ]
  },
  {
   "cell_type": "markdown",
   "id": "1d2c740b-e713-49dd-8555-900a08ff56be",
   "metadata": {},
   "source": [
    "### Membersihkan data customers_df"
   ]
  },
  {
   "cell_type": "code",
   "execution_count": null,
   "id": "605d95c7-8c58-4898-b4db-97cfb9e73c12",
   "metadata": {},
   "outputs": [],
   "source": [
    "# Menghilangkan duplicate data\n",
    "customers_df.drop_duplicates(inplace=True)"
   ]
  },
  {
   "cell_type": "code",
   "execution_count": null,
   "id": "dd4c1d7a-6685-43d1-8540-9404455788b0",
   "metadata": {},
   "outputs": [],
   "source": [
    "print(\"Jumlah duplikasi: \", customers_df.duplicated().sum())\n"
   ]
  },
  {
   "cell_type": "markdown",
   "id": "080a0176-962a-4657-9e0b-51b1490e1143",
   "metadata": {},
   "source": [
    "### Menangani Missing Value"
   ]
  },
  {
   "cell_type": "code",
   "execution_count": null,
   "id": "4036a08a-730c-48a7-ac41-1489f99f7fa5",
   "metadata": {},
   "outputs": [],
   "source": [
    "customers_df[customers_df.gender.isna()]\n"
   ]
  },
  {
   "cell_type": "code",
   "execution_count": null,
   "id": "50ba001c-23d3-47ae-b4b9-cee79c9c08be",
   "metadata": {},
   "outputs": [],
   "source": [
    "customers_df.gender.value_counts()\n"
   ]
  },
  {
   "cell_type": "code",
   "execution_count": null,
   "id": "3e8fd7c3-62f8-4b0e-843b-df4a5874a0e9",
   "metadata": {},
   "outputs": [],
   "source": [
    "customers_df.fillna(value=\"Prefer not to say\", inplace=True)\n"
   ]
  },
  {
   "cell_type": "code",
   "execution_count": null,
   "id": "7e384e27-6349-4447-b16e-c8f40ddf8710",
   "metadata": {},
   "outputs": [],
   "source": [
    "customers_df.isna().sum()\n"
   ]
  },
  {
   "cell_type": "code",
   "execution_count": null,
   "id": "ab176542-b3cf-4d60-ab10-e9b9fc6b8613",
   "metadata": {},
   "outputs": [],
   "source": [
    "# Menangani inaccurate Value\n",
    "customers_df[customers_df.age == customers_df.age.max()]"
   ]
  },
  {
   "cell_type": "code",
   "execution_count": null,
   "id": "744f7bbb-fb48-4712-90cd-29dff60391eb",
   "metadata": {},
   "outputs": [],
   "source": [
    "# Ganti menjadi 70 tahun\n",
    "customers_df.age.replace(customers_df.age.max(), 70, inplace=True)"
   ]
  },
  {
   "cell_type": "code",
   "execution_count": null,
   "id": "d4180ff7-ea77-4bcc-bb85-9d56fa5d9e78",
   "metadata": {},
   "outputs": [],
   "source": [
    "customers_df[customers_df.age == customers_df.age.max()]"
   ]
  },
  {
   "cell_type": "code",
   "execution_count": null,
   "id": "1e23b022-4818-45d9-9969-3c84d45b8d2b",
   "metadata": {},
   "outputs": [],
   "source": [
    "customers_df.describe()"
   ]
  },
  {
   "cell_type": "code",
   "execution_count": null,
   "id": "2cab302d-e467-47b3-9ccb-4d9f3145dfc1",
   "metadata": {},
   "outputs": [],
   "source": [
    "# Masih ada yang inaccurate\n",
    "customers_df.age.replace(customers_df.age.max(), 50, inplace=True)"
   ]
  },
  {
   "cell_type": "code",
   "execution_count": null,
   "id": "dd6c7948-6897-4090-b42a-e8ffa9166f8a",
   "metadata": {},
   "outputs": [],
   "source": [
    "customers_df.describe()"
   ]
  },
  {
   "cell_type": "markdown",
   "id": "42697fc5-734a-4d54-a2ca-cc03712ec094",
   "metadata": {},
   "source": [
    "### Membersihkan Orders_df"
   ]
  },
  {
   "cell_type": "code",
   "execution_count": null,
   "id": "cdd3b2b2-6864-4168-90aa-d1edc8a82319",
   "metadata": {},
   "outputs": [],
   "source": [
    "datetime_columns = [\"order_date\", \"delivery_date\"]\n",
    " \n",
    "for column in datetime_columns:\n",
    "  orders_df[column] = pd.to_datetime(orders_df[column])"
   ]
  },
  {
   "cell_type": "code",
   "execution_count": null,
   "id": "4dae51d0-a89f-4715-9f6f-2a2b61a313f2",
   "metadata": {},
   "outputs": [],
   "source": [
    "orders_df.info()\n"
   ]
  },
  {
   "cell_type": "markdown",
   "id": "7afd89d0-f839-4eba-ab57-55c0dff969c7",
   "metadata": {},
   "source": [
    "### Membersihkan Data product_df"
   ]
  },
  {
   "cell_type": "code",
   "execution_count": null,
   "id": "61e83d7b-d597-4a76-983b-2fe7622672dd",
   "metadata": {},
   "outputs": [],
   "source": [
    "# Membersihkan 6 data yang duplicate\n",
    "product_df.drop_duplicates(inplace=True)"
   ]
  },
  {
   "cell_type": "code",
   "execution_count": null,
   "id": "3d2d982d-26bc-4c92-9b2c-a6517e0e21cf",
   "metadata": {},
   "outputs": [],
   "source": [
    "print(\"Jumlah duplikasi: \", product_df.duplicated().sum())"
   ]
  },
  {
   "cell_type": "markdown",
   "id": "ffe8b5f7-3242-499b-8369-7a3fe31364eb",
   "metadata": {},
   "source": [
    "### Membersihkan Data sales_df"
   ]
  },
  {
   "cell_type": "code",
   "execution_count": null,
   "id": "db456c40-bf29-4b96-afd1-d68edde8bcf5",
   "metadata": {},
   "outputs": [],
   "source": [
    "sales_df[sales_df.total_price.isna()]"
   ]
  },
  {
   "cell_type": "code",
   "execution_count": null,
   "id": "b4ab03b3-a1ce-41ff-aabe-fe66091ed4e2",
   "metadata": {},
   "outputs": [],
   "source": [
    "sales_df[\"total_price\"] = sales_df[\"price_per_unit\"] * sales_df[\"quantity\"]"
   ]
  },
  {
   "cell_type": "code",
   "execution_count": null,
   "id": "b985243f-7e96-4986-bd4f-e90d7c0f282d",
   "metadata": {},
   "outputs": [],
   "source": [
    "sales_df.isna().sum()\n"
   ]
  },
  {
   "cell_type": "markdown",
   "id": "daca137d-41f0-4f10-919d-b1bc58e365af",
   "metadata": {},
   "source": [
    "# Exploratory Data Analysis\n",
    "\n",
    "Berdasarkan beberapa masalah tersebut, kita dapat mendefinisikan beberapa pertanyaan bisnis seperti berikut.\n",
    "\n",
    "* Bagaimana performa penjualan dan revenue perusahaan dalam beberapa bulan terakhir?\n",
    "* Produk apa yang paling banyak dan paling sedikit terjual?\n",
    "* Bagaimana demografi pelanggan yang kita miliki?\n",
    "* Kapan terakhir pelanggan melakukan transaksi?\n",
    "* Seberapa sering seorang pelanggan melakukan pembelian dalam beberapa bulan terakhir?\n",
    "* Berapa banyak uang yang dihabiskan pelanggan dalam beberapa bulan terakhir? "
   ]
  },
  {
   "cell_type": "markdown",
   "id": "c1d3c111-a4b7-4d77-8cd9-15795acf5c7e",
   "metadata": {},
   "source": [
    "## Explorasi Data customers_df"
   ]
  },
  {
   "cell_type": "code",
   "execution_count": null,
   "id": "9cf1c727-79e1-4da1-bbcd-d2bb7a25a1d6",
   "metadata": {},
   "outputs": [],
   "source": [
    "customers_df.describe(include=\"all\")\n"
   ]
  },
  {
   "cell_type": "markdown",
   "id": "bb950dba-8750-417c-b7e1-084f373ac44c",
   "metadata": {},
   "source": [
    "Berdasarkan rangkuman parameter statistik di atas, kita akan memperoleh informasi jumlah pelanggan sebanyak 1001 orang yang berumur di kisaran antara 20 hingga 80 tahun dengan rata-rata umur sebesar 49.87 tahun dengan standar deviasinya sebesar 17.64 tahun. Informasi ini tentunya dapat memberikan gambaran bahwa segmentasi pelanggan yang kita miliki cukup luas mulai dari remaja hingga lanjut usia.  "
   ]
  },
  {
   "cell_type": "code",
   "execution_count": null,
   "id": "04c060d3-355b-4932-95d9-ba1a621d8bd9",
   "metadata": {},
   "outputs": [],
   "source": [
    "customers_df.groupby(by=\"gender\").agg({\n",
    "    \"customer_id\": \"nunique\",\n",
    "    \"age\": [\"max\", \"min\", \"mean\", \"std\"]\n",
    "})"
   ]
  },
  {
   "cell_type": "markdown",
   "id": "9ddf6902-313a-4f52-83be-1f6ae03ea50f",
   "metadata": {
    "scrolled": true
   },
   "source": [
    "Berdasarkan pivot table di atas, dapat diketahui bahwa pelanggan yang kita miliki didominasi oleh jenis kelamin prefer not to say. Di lain sisi, distribusi umur mereka ternyata cukup mirip yaitu berkisar antara 20 hingga 80 tahun."
   ]
  },
  {
   "cell_type": "code",
   "execution_count": null,
   "id": "6c3495e3-c342-49af-81d9-9e303aba387b",
   "metadata": {},
   "outputs": [],
   "source": [
    "customers_df.groupby(by=\"city\").customer_id.nunique().sort_values(ascending=False)"
   ]
  },
  {
   "cell_type": "code",
   "execution_count": null,
   "id": "073687ad-07fd-4e1e-be68-afcdc96374a5",
   "metadata": {},
   "outputs": [],
   "source": [
    "customers_df.groupby(by=\"state\").customer_id.nunique().sort_values(ascending=False)"
   ]
  },
  {
   "cell_type": "markdown",
   "id": "0d9106bd-031a-4f76-b756-bd52dbb8d50f",
   "metadata": {},
   "source": [
    "Berdasarkan hasil di atas, dapat dilihat bahwa persebaran pelanggan kita cukup merata pada setiap kota dan negara bagian. Pelanggan kita paling banyak berada di kota East Aidan, East Sophia, dan New Ava dengan jumlah masing-masing tiga pelanggan. Selain itu, pelanggan kita paling banyak berasal dari negara bagian South Australia."
   ]
  },
  {
   "cell_type": "markdown",
   "id": "b6b8fafa-f88d-42a6-aab3-b6c08a7770dd",
   "metadata": {},
   "source": [
    "## Explorasi data orders_df\n",
    "\n",
    "Data kedua yang akan kita eksplor adalah orders_df. Ia mengandung berbagai informasi terkait sebuah order yang terdiri dari order_id, customer_id, order_date, dan delivery_date. Berdasarkan informasi tersebut, kita bisa membuat sebuah kolom baru untuk memuat waktu pengiriman tiap order. Untuk melakukannya, kita perlu menghitung selisih antar delivery_date dan order_date serta menyimpannya sebagai delivery_time. Selanjutnya, kita akan menggunakan method apply() untuk melakukan sebuah operasi terhadap setiap elemen dalam sebuah kolom DataFrame atau Series (bentuk satu dimensi dari DataFrame). Operasi yang akan kita lakukan ialah menghitung jumlah detik dari delivery_time menggunakan method total_seconds(). Nilai tersebut selanjutnya diubah ke dalam satuan hari (dibagi 86400) dan diambil bilangan bulatnya saja. Berikut merupakan contoh kode untuk melakukan semua proses tersebut."
   ]
  },
  {
   "cell_type": "code",
   "execution_count": null,
   "id": "995f673e-3c16-4143-8719-ff3e182472ef",
   "metadata": {},
   "outputs": [],
   "source": [
    "delivery_time = orders_df[\"delivery_date\"] - orders_df[\"order_date\"]\n",
    "delivery_time = delivery_time.apply(lambda x: x.total_seconds())\n",
    "orders_df[\"delivery_time\"] = round(delivery_time/86400)"
   ]
  },
  {
   "cell_type": "markdown",
   "id": "8503152d-6e14-47c8-b218-f3d50530d53c",
   "metadata": {},
   "source": [
    "Setelah menjalankan kode di atas, Anda akan menemukan kolom baru pada DataFrame orders_df seperti berikut."
   ]
  },
  {
   "cell_type": "code",
   "execution_count": null,
   "id": "1da50c7d-666a-45c1-a02c-d0fd2f26bba1",
   "metadata": {},
   "outputs": [],
   "source": [
    "orders_df.head()"
   ]
  },
  {
   "cell_type": "code",
   "execution_count": null,
   "id": "24fa5e4e-801c-4dd9-bec3-318a981ac333",
   "metadata": {},
   "outputs": [],
   "source": [
    "orders_df.describe(include=\"all\")"
   ]
  },
  {
   "cell_type": "markdown",
   "id": "2747a6d0-c24d-47b7-a97c-078ac3b0a8dc",
   "metadata": {},
   "source": [
    "Berdasarkan hasil tersebut, dapat diketahui bahwa rata-rata waktu pengiriman sebesar 14 hari dengan nilai maksimum sebesar 27 hari dan nilai minimum sebesar 1 hari. "
   ]
  },
  {
   "cell_type": "markdown",
   "id": "ea0c5045-d4ed-4c61-83bf-faccffd5ead3",
   "metadata": {},
   "source": [
    "## Eksplorasi Data orders_df dan customers_df\n",
    "\n",
    "pada data orders_df terdapat kolom yang berisi informasi terkait customer id pelanggan yang pernah melakukan order. Informasi ini bisa kita gunakan untuk mengidentifikasi pelanggan yang belum pernah melakukan order. Untuk melakukan hal ini, kita bisa membuat sebuah kolom baru bernama “status” pada data customers_df. Kolom tersebut memiliki nilai “Active” untuk pelanggan yang pernah melakukan order setidaknya sekali dan sebaliknya bernilai “Non Active” untuk pelanggan yang belum pernah melakukan order sama sekali. Berikut merupakan kode untuk melakukannya. "
   ]
  },
  {
   "cell_type": "code",
   "execution_count": null,
   "id": "8f331651-91d1-4b4b-a3c8-77b9d88499ec",
   "metadata": {},
   "outputs": [],
   "source": [
    "customer_id_in_orders_df =  orders_df.customer_id.tolist()\n",
    "customers_df[\"status\"] = customers_df[\"customer_id\"].apply(lambda x: \"Active\" if x in customer_id_in_orders_df else \"Non Active\")\n",
    "customers_df.sample(5)"
   ]
  },
  {
   "cell_type": "code",
   "execution_count": null,
   "id": "d6efa14e-f093-4cd9-a6ac-c1ee7edc2930",
   "metadata": {
    "scrolled": true
   },
   "outputs": [],
   "source": [
    "customers_df.groupby(by=\"status\").customer_id.count()"
   ]
  },
  {
   "cell_type": "markdown",
   "id": "a9e0da42-91ff-4f47-b373-aff6c44d2a95",
   "metadata": {},
   "source": [
    "Seperti yang terlihat pada pivot table di atas, terdapat cukup banyak pelanggan yang belum pernah melakukan transaksi sebelumnya. Ini tentunya merupakan kabar buruk bagi kita karena hampir 30% pelanggan kita belum pernah melakukan order sebelumnya."
   ]
  },
  {
   "cell_type": "code",
   "execution_count": null,
   "id": "76e3a122-30b1-4d67-831c-0b5717e39831",
   "metadata": {},
   "outputs": [],
   "source": [
    "orders_customers_df = pd.merge(\n",
    "    left=orders_df,\n",
    "    right=customers_df,\n",
    "    how=\"left\",\n",
    "    left_on=\"customer_id\",\n",
    "    right_on=\"customer_id\"\n",
    ")\n",
    "orders_customers_df.head()"
   ]
  },
  {
   "cell_type": "markdown",
   "id": "9cde889e-9d1f-4394-912c-99c28ce99c82",
   "metadata": {},
   "source": [
    "Pada kode di atas, kita melakukan proses merge dengan metode “left”. Tentunya Anda masih ingat bukan dengan metode tersebut. Yap, betul sekali metode ini memungkinkan kita untuk mengambil semua nilai dari tabel kiri serta nilai yang bersesuaian dengan tabel kanan. "
   ]
  },
  {
   "cell_type": "code",
   "execution_count": null,
   "id": "0a8595a3-b960-4cd7-8b4e-369dafdb894f",
   "metadata": {},
   "outputs": [],
   "source": [
    "orders_customers_df.groupby(by=\"city\").order_id.nunique().sort_values(ascending=False).reset_index().head(10)\n"
   ]
  },
  {
   "cell_type": "markdown",
   "id": "f34cffce-151d-42e1-b11f-52e06acead97",
   "metadata": {},
   "source": [
    "Nah, berdasarkan hasil tersebut, diketahui bahwa kota Jordanside dan New Ava merupakan dua kota yang memiliki jumlah order terbanyak."
   ]
  },
  {
   "cell_type": "code",
   "execution_count": null,
   "id": "832dccb1-09fc-4247-a84e-c999935c5b26",
   "metadata": {},
   "outputs": [],
   "source": [
    "orders_customers_df.groupby(by=\"state\").order_id.nunique().sort_values(ascending=False)"
   ]
  },
  {
   "cell_type": "markdown",
   "id": "110612e5-7b9d-494a-b3fa-d2e17b28fd1d",
   "metadata": {},
   "source": [
    "Kode tersebut akan menghasilkan pivot table seperti di bawah ini. Berdasarkan pivot table tersebut, diketahui bahwa South Australia merupakan state yang balik banyak melakukan order."
   ]
  },
  {
   "cell_type": "code",
   "execution_count": null,
   "id": "af9d2abc-0ee7-4a05-978f-445a487f9912",
   "metadata": {
    "scrolled": true
   },
   "outputs": [],
   "source": [
    "orders_customers_df.groupby(by=\"gender\").order_id.nunique().sort_values(ascending=False)"
   ]
  },
  {
   "cell_type": "markdown",
   "id": "c687055c-798e-43e6-b6f8-4866906fc347",
   "metadata": {},
   "source": [
    "Berdasarkan hasil tersebut, dapat dilihat bahwa kebanyakan order dilakukan oleh pelanggan yang berjenis kelamin prefer not to say. Hal ini tentunya sejalan dengan jumlah pelanggan yang kebanyakan dari kelompok gender tersebut."
   ]
  },
  {
   "cell_type": "code",
   "execution_count": null,
   "id": "94db097b-ecdd-436c-aba3-2ee1ebf033a9",
   "metadata": {},
   "outputs": [],
   "source": [
    "orders_customers_df[\"age_group\"] = orders_customers_df.age.apply(lambda x: \"Youth\" if x <= 24 else (\"Seniors\" if x > 64 else \"Adults\"))\n",
    "orders_customers_df.groupby(by=\"age_group\").order_id.nunique().sort_values(ascending=False)"
   ]
  },
  {
   "cell_type": "markdown",
   "id": "285b55a4-3c6d-4cb0-bdb6-f0aaa0022643",
   "metadata": {},
   "source": [
    "Oke, sejauh ini kita telah menemukan banyak sekali informasi yang tentunya menarik untuk ditelusuri lebih dalam. Namun, sebelum itu mari kita mengeksplorasi dua data yang lain (product_df dan sales_df) terlebih dahulu. "
   ]
  },
  {
   "cell_type": "markdown",
   "id": "f38fc79a-2014-4732-883b-196972c1e117",
   "metadata": {},
   "source": [
    "## Eksplorasi Data orders_df dan customers_df\n",
    "\n",
    "Pada tahap ini, kita akan mengeksplorasi data product_df dan sales_df. Sebagai permulaan, kita dapat melihat rangkuman parameter statistik dari keduanya menggunakan method describe()."
   ]
  },
  {
   "cell_type": "code",
   "execution_count": null,
   "id": "fb3d183a-1b39-4580-96e8-f4b99ecd937d",
   "metadata": {},
   "outputs": [],
   "source": [
    "product_df.describe(include='all')\n",
    "sales_df.describe(include='all')"
   ]
  },
  {
   "cell_type": "markdown",
   "id": "bdeeacf6-013d-41bd-a2a6-3dc26f706147",
   "metadata": {},
   "source": [
    "Berdasarkan hasil tersebut, dapat dilihat bahwa harga barang yang dijual berkisar antara 90 hingga 119 dolar. Selain itu, kita juga memperoleh informasi lain yang tidak kalah menarik yaitu pada setiap transaksi pelanggan paling banyak membeli tiga buah item dalam satu jenis produk dengan total harga sebesar 357 dolar. "
   ]
  },
  {
   "cell_type": "code",
   "execution_count": null,
   "id": "31ea393d-be3a-4c9f-b8c9-dd2c6db9b576",
   "metadata": {},
   "outputs": [],
   "source": [
    "product_df.sort_values(by=\"price\", ascending=False)\n"
   ]
  },
  {
   "cell_type": "markdown",
   "id": "bc740604-96f4-4de4-a11f-7883751da95c",
   "metadata": {},
   "source": [
    "Dapat dilihat bahwa produk termahal ialah item jaket bernama Parka dan yang termurah bernama Bomber.\n",
    "\n",
    "Selanjutnya, kita bisa menggunakan pivot table untuk mencari informasi terkait produk berdasarkan tipe dan nama produknya. "
   ]
  },
  {
   "cell_type": "code",
   "execution_count": null,
   "id": "95f27686-56bf-4341-a7f0-30f532051536",
   "metadata": {},
   "outputs": [],
   "source": [
    "product_df.groupby(by=\"product_type\").agg({\n",
    "    \"product_id\": \"nunique\",\n",
    "    \"quantity\": \"sum\",\n",
    "    \"price\":  [\"min\", \"max\"]\n",
    "})"
   ]
  },
  {
   "cell_type": "code",
   "execution_count": null,
   "id": "836191ad-5ef9-4457-9ecc-9b0a83093492",
   "metadata": {},
   "outputs": [],
   "source": [
    "product_df.groupby(by=\"product_name\").agg({\n",
    "    \"product_id\": \"nunique\",\n",
    "    \"quantity\": \"sum\",\n",
    "    \"price\": [\"min\", \"max\"]\n",
    "})"
   ]
  },
  {
   "cell_type": "markdown",
   "id": "fb558fb5-1e4d-43c4-bf29-bc112ce49a65",
   "metadata": {},
   "source": [
    "Pivot table di atas dapat memberikan kita gambaran terkait produk yang dijual oleh Dicoding Collection. Sebagai calon praktisi data yang Andal, tentunya Anda penasaran dengan produk yang paling laris. Nah, untuk menjawab pertanyaan ini, kita perlu menyatukan (merge) tabel product_df dan sales_df dengan kode berikut."
   ]
  },
  {
   "cell_type": "code",
   "execution_count": null,
   "id": "b972fc6a-15c9-40cb-a5d3-9470503666e0",
   "metadata": {},
   "outputs": [],
   "source": [
    "sales_product_df = pd.merge(\n",
    "    left=sales_df,\n",
    "    right=product_df,\n",
    "    how=\"left\",\n",
    "    left_on=\"product_id\",\n",
    "    right_on=\"product_id\"\n",
    ")\n",
    "sales_product_df.head()"
   ]
  },
  {
   "cell_type": "markdown",
   "id": "3891206d-4db2-4fef-8c5b-d8a8b70b0079",
   "metadata": {},
   "source": [
    "Pada dasarnya kode di atas akan melakukan proses merge terhadap data product_df dan sales_df. Proses merge tersebut dilakukan menggunakan metode “left”.\n",
    "\n",
    "Jika diperhatikan kembali, hasil dari proses merge di atas memiliki perbedaan antara nilai price_per_unit dan price. Hal ini bisa terjadi karena adanya potongan harga, biaya operasional, dan biaya lainnya. \n",
    "\n"
   ]
  },
  {
   "cell_type": "code",
   "execution_count": null,
   "id": "4c1201ee-c9db-42b5-810d-96a35f312355",
   "metadata": {},
   "outputs": [],
   "source": [
    "sales_product_df.groupby(by=\"product_type\").agg({\n",
    "    \"sales_id\": \"nunique\",\n",
    "    \"quantity_x\": \"sum\",\n",
    "    \"total_price\": \"sum\"\n",
    "})"
   ]
  },
  {
   "cell_type": "markdown",
   "id": "553684f6-0ac6-45ee-9598-b31b3e8bfd90",
   "metadata": {},
   "source": [
    "Jika Anda perhatikan pivot table di atas, Trousers merupakan tipe produk yang paling laris. Akan tetapi, jika dilihat berdasarkan revenue yang diterima, Jacket merupakan tipe produk yang paling banyak menyumbang revenue perusahaan. "
   ]
  },
  {
   "cell_type": "code",
   "execution_count": null,
   "id": "df89c1d1-1050-4d7f-aff8-8d33b761ab9c",
   "metadata": {},
   "outputs": [],
   "source": [
    "sales_product_df.groupby(by=\"product_name\").agg({\n",
    "    \"sales_id\": \"nunique\",\n",
    "    \"quantity_x\": \"sum\",\n",
    "    \"total_price\": \"sum\"\n",
    "}).sort_values(by=\"total_price\", ascending=False)"
   ]
  },
  {
   "cell_type": "markdown",
   "id": "9a84cb98-2641-4550-ba73-36da88048999",
   "metadata": {},
   "source": [
    "Berdasarkan pivot table tersebut, diketahui bahwa produk Denim merupakan produk yang paling laris dan juga paling banyak menyumbang revenue terhadap perusahaan.  "
   ]
  },
  {
   "cell_type": "markdown",
   "id": "363a65df-1955-42c7-9bda-193de7034ed9",
   "metadata": {},
   "source": [
    "## Eksplorasi Data all_df\n",
    "\n",
    "Jika diperhatikan data penjualan ini cukup menarik untuk ditelusuri lebih dalam. Hal ini dilakukan guna melihat pola pembelian berdasarkan demografi pelanggan. Oleh karena itu, kita perlu membuat sebuah DataFrame baru bernama all_df untuk menampung semua informasi dari keempat tabel yang kita miliki. "
   ]
  },
  {
   "cell_type": "code",
   "execution_count": null,
   "id": "7b0137e9-52d5-46ed-8550-a094a82ca334",
   "metadata": {},
   "outputs": [],
   "source": [
    "all_df = pd.merge(\n",
    "    left=sales_product_df,\n",
    "    right=orders_customers_df,\n",
    "    how=\"left\",\n",
    "    left_on=\"order_id\",\n",
    "    right_on=\"order_id\"\n",
    ")\n",
    "all_df.head()"
   ]
  },
  {
   "cell_type": "markdown",
   "id": "cd28298f-bc18-46c1-8b9d-b2421e749aca",
   "metadata": {},
   "source": [
    "Selanjutnya, mari kita coba lihat preferensi pembelian berdasarkan state pelanggan dan tipe produk menggunakan kode di bawah ini."
   ]
  },
  {
   "cell_type": "code",
   "execution_count": null,
   "id": "d2546dab-22cd-40c9-aa33-ccc351e7a30c",
   "metadata": {},
   "outputs": [],
   "source": [
    "all_df.groupby(by=[\"state\", \"product_type\"]).agg({\n",
    "    \"quantity_x\": \"sum\",\n",
    "    \"total_price\": \"sum\"\n",
    "})"
   ]
  },
  {
   "cell_type": "markdown",
   "id": "076909c5-43f9-483c-b128-00315ad47039",
   "metadata": {},
   "source": [
    "Pivot table di atas memberikan kita gambaran terkait tipe produk yang disukai pengguna berdasarkan lokasi negara bagiannya. Jika diperhatikan, tipe produk Jacket (garis merah) paling banyak terjual pada negara bagian Queensland, South Australia, dan New South Wales. Untuk tipe produk lain, Anda bisa melihatnya pada gambar pivot table di atas. "
   ]
  },
  {
   "cell_type": "markdown",
   "id": "e8c9c40d-b8cf-4686-95fd-ac3b4556f3d6",
   "metadata": {},
   "source": [
    "Sekarang Anda bisa melakukan hal yang sama untuk mengetahui selera tipe produk pelanggan berdasarkan gender dan kelompok usia. "
   ]
  },
  {
   "cell_type": "code",
   "execution_count": null,
   "id": "de98c2b5-0599-4ee7-a00d-a6022bea3115",
   "metadata": {},
   "outputs": [],
   "source": [
    "all_df.groupby(by=[\"gender\", \"product_type\"]).agg({\n",
    "    \"quantity_x\": \"sum\",\n",
    "    \"total_price\": \"sum\"\n",
    "})"
   ]
  },
  {
   "cell_type": "code",
   "execution_count": null,
   "id": "b418d534-6720-4c85-9a76-844f2c94538d",
   "metadata": {},
   "outputs": [],
   "source": [
    "all_df.groupby(by=[\"age_group\", \"product_type\"]).agg({\n",
    "    \"quantity_x\": \"sum\",\n",
    "    \"total_price\": \"sum\"\n",
    "})"
   ]
  },
  {
   "cell_type": "markdown",
   "id": "951c36ab-e63d-4ecb-b734-6a14c4a24cc6",
   "metadata": {},
   "source": [
    "Nah, pivot table di atas dapat memberikan kita gambaran terkait selera tipe produk pelanggan berdasarkan gender dan kelompok usia. Semua informasi ini akan sangat membantu Anda dalam menjawab pertanyaan terkait preferensi pengguna berdasarkan demografinya.\n",
    "\n",
    "Oke, sekarang kita selesai melakukan eksplorasi terhadap dataset yang kita miliki. Sejauh ini, masih banyak pertanyaan analisis atau bisnis yang belum terjawab. Namun, jangan khawatir. Pada materi selanjutnya, kita akan berkenalan dengan teknik visualisasi dan melakukan analisis data yang lebih advance guna menjawab pertanyaan bisnis yang belum terjawab tersebut."
   ]
  },
  {
   "cell_type": "markdown",
   "id": "096dd327-b55e-48de-81e9-a881434899f0",
   "metadata": {},
   "source": [
    "# Visualisasi Data\n"
   ]
  },
  {
   "cell_type": "markdown",
   "id": "905a810a-4be1-4949-9ae2-1f71a4161d5d",
   "metadata": {},
   "source": [
    "### Bagaimana Performa Penjualan dan Revenue Perusahaan dalam Beberapa Bulan Terakhir\n",
    "Kita perlu membuat sebuah DataFrame baru untuk menampung informasi terkait jumlah order dan total revenue yang diperoleh pada tiap bulannya. Oleh karena itu, kita perlu mengubah frekuensi dari data yang awalnya harian menjadi bulanan.\n",
    "\n"
   ]
  },
  {
   "cell_type": "code",
   "execution_count": null,
   "id": "e42e5957-ed69-461b-a1c4-32af32831100",
   "metadata": {},
   "outputs": [],
   "source": [
    "monthly_orders_df = all_df.resample(rule='M', on='order_date').agg({\n",
    "    \"order_id\": \"nunique\",\n",
    "    \"total_price\": \"sum\"\n",
    "})\n",
    "monthly_orders_df.index = monthly_orders_df.index.strftime('%Y-%m')\n",
    "monthly_orders_df = monthly_orders_df.reset_index()\n",
    "monthly_orders_df.rename(columns={\n",
    "    \"order_id\": \"order_count\",\n",
    "    \"total_price\": \"revenue\"\n",
    "}, inplace=True)\n",
    "monthly_orders_df.head()"
   ]
  },
  {
   "cell_type": "markdown",
   "id": "f23ecd5d-7ab2-455e-8319-0b33f6d70bc5",
   "metadata": {},
   "source": [
    "Oke, sekarang kita telah memiliki sebuah DataFrame yang memuat informasi yang dibutuhkan untuk menjawab pertanyaan pertama ini. Namun, untuk mempermudah orang lain dalam memahami informasi dari DataFrame tersebut, kita perlu membuat visualisasi datanya. Apakah Anda bisa menebak bentuk visualisasi data apa yang akan kita gunakan? Yap, betul sekali kita akan menggunakan bentuk line chart untuk memvisualkan informasi terkait jumlah order dan total revenue yang diperoleh tiap bulan. "
   ]
  },
  {
   "cell_type": "code",
   "execution_count": null,
   "id": "595d965d-07cc-4e11-8a89-44eda3dc604a",
   "metadata": {},
   "outputs": [],
   "source": [
    "monthly_orders_df = all_df.resample(rule='M', on='order_date').agg({\n",
    "    \"order_id\": \"nunique\",\n",
    "    \"total_price\": \"sum\"\n",
    "})\n",
    "monthly_orders_df.index = monthly_orders_df.index.strftime('%B') #mengubah format order date menjadi nama bulan\n",
    " \n",
    "monthly_orders_df = monthly_orders_df.reset_index()\n",
    "monthly_orders_df.rename(columns={\n",
    "    \"order_id\": \"order_count\",\n",
    "    \"total_price\": \"revenue\"\n",
    "}, inplace=True)\n",
    " \n",
    "plt.figure(figsize=(10, 5)) \n",
    "plt.plot(monthly_orders_df[\"order_date\"], monthly_orders_df[\"order_count\"], marker='o', linewidth=2, color=\"#72BCD4\") \n",
    "plt.title(\"Number of Orders per Month (2021)\", loc=\"center\", fontsize=20) \n",
    "plt.xticks(fontsize=10) \n",
    "plt.yticks(fontsize=10) \n",
    "plt.show()"
   ]
  },
  {
   "cell_type": "markdown",
   "id": "d09dbc60-bbb1-4917-acad-a460dca2072b",
   "metadata": {},
   "source": [
    "Berdasarkan visualisasi di atas, kita dapat melihat bahwa jumlah order terbanyak terjadi pada bulan Maret. Selain itu, kita juga dapat melihat adanya penurunan jumlah order yang cukup signifikan pada bulan Februari, April, Mei, dan Oktober. "
   ]
  },
  {
   "cell_type": "code",
   "execution_count": null,
   "id": "8ce4aa8b-ae3a-4247-9ebf-451b4689a4a8",
   "metadata": {},
   "outputs": [],
   "source": [
    "plt.figure(figsize=(10, 5))\n",
    "plt.plot(\n",
    "    monthly_orders_df[\"order_date\"],\n",
    "    monthly_orders_df[\"revenue\"],\n",
    "    marker='o', \n",
    "    linewidth=2,\n",
    "    color=\"#72BCD4\"\n",
    ")\n",
    "plt.title(\"Total Revenue per Month (2021)\", loc=\"center\", fontsize=20)\n",
    "plt.xticks(fontsize=10)\n",
    "plt.yticks(fontsize=10)\n",
    "plt.show()"
   ]
  },
  {
   "cell_type": "markdown",
   "id": "a26322ea-2b0d-435e-8e64-b7e9d0b36aea",
   "metadata": {},
   "source": [
    "### Produk Apa yang Paling Banyak dan Paling Sedikit Terjual?"
   ]
  },
  {
   "cell_type": "code",
   "execution_count": null,
   "id": "e7310d8d-c06e-42f8-8d97-e1d717d1b86e",
   "metadata": {},
   "outputs": [],
   "source": [
    "sum_order_items_df = all_df.groupby(\"product_name\").quantity_x.sum().sort_values(ascending=False).reset_index()\n",
    "sum_order_items_df.head(15)"
   ]
  },
  {
   "cell_type": "markdown",
   "id": "77323200-9ad3-42eb-8e91-e2b6b5119ef5",
   "metadata": {},
   "source": [
    "Untuk mempermudah kita dalam menyampaikan informasi tersebut, kita harus membuat visualisasi data dalam bentuk bar chart. Selain itu, untuk mempermudah orang lain dalam mengidentifikasi produk dengan performa terbaik dan terburuk, kita perlu membuat dua buah visualisasi data dalam satu gambar visual. Untuk melakukan ini, gunakanlah function subplot(). Berikut contoh kode untuk membuatnya."
   ]
  },
  {
   "cell_type": "code",
   "execution_count": null,
   "id": "8c3f1124-8118-4d87-8fc3-e79c72cf0adc",
   "metadata": {},
   "outputs": [],
   "source": [
    "fig, ax = plt.subplots(nrows=1, ncols=2, figsize=(24, 6))\n",
    " \n",
    "colors = [\"#72BCD4\", \"#D3D3D3\", \"#D3D3D3\", \"#D3D3D3\", \"#D3D3D3\"]\n",
    " \n",
    "sns.barplot(x=\"quantity_x\", y=\"product_name\", data=sum_order_items_df.head(5), palette=colors, ax=ax[0], hue=\"product_name\", legend=False)\n",
    "ax[0].set_ylabel(None)\n",
    "ax[0].set_xlabel(None)\n",
    "ax[0].set_title(\"Best Performing Product\", loc=\"center\", fontsize=15)\n",
    "ax[0].tick_params(axis ='y', labelsize=12)\n",
    " \n",
    "sns.barplot(x=\"quantity_x\", y=\"product_name\", data=sum_order_items_df.sort_values(by=\"quantity_x\", ascending=True).head(5), palette=colors, ax=ax[1], hue=\"product_name\", legend=False)\n",
    "ax[1].set_ylabel(None)\n",
    "ax[1].set_xlabel(None)\n",
    "ax[1].invert_xaxis()\n",
    "ax[1].yaxis.set_label_position(\"right\")\n",
    "ax[1].yaxis.tick_right()\n",
    "ax[1].set_title(\"Worst Performing Product\", loc=\"center\", fontsize=15)\n",
    "ax[1].tick_params(axis='y', labelsize=12)\n",
    " \n",
    "plt.suptitle(\"Best and Worst Performing Product by Number of Sales\", fontsize=20)\n",
    "plt.show()"
   ]
  },
  {
   "cell_type": "markdown",
   "id": "d2945c25-25cb-4cf7-85bf-a2ca194b2f61",
   "metadata": {},
   "source": [
    "### Bagaimana Demografi Pelanggan yang Kita Miliki?"
   ]
  },
  {
   "cell_type": "code",
   "execution_count": null,
   "id": "7c7e8fed-9e00-4544-ae8b-79fa0f8f0755",
   "metadata": {},
   "outputs": [],
   "source": [
    "### Berdasarkan Gender\n",
    "bygender_df = all_df.groupby(by=\"gender\").customer_id.nunique().reset_index()\n",
    "bygender_df.rename(columns={\n",
    "    \"customer_id\": \"customer_count\"\n",
    "}, inplace=True)\n",
    " \n",
    "plt.figure(figsize=(10, 5))\n",
    " \n",
    "sns.barplot(\n",
    "    y=\"customer_count\", \n",
    "    x=\"gender\",\n",
    "    data=bygender_df.sort_values(by=\"customer_count\", ascending=False),\n",
    "    palette=colors, hue=\"gender\", legend=False\n",
    ")\n",
    "plt.title(\"Number of Customer by Gender\", loc=\"center\", fontsize=15)\n",
    "plt.ylabel(None)\n",
    "plt.xlabel(None)\n",
    "plt.tick_params(axis='x', labelsize=12)\n",
    "plt.show()"
   ]
  },
  {
   "cell_type": "markdown",
   "id": "54f35f79-499a-499e-a31d-75cd0bfc34a6",
   "metadata": {},
   "source": [
    "Berdasarkan gambar di atas, diketahui bahwa kebanyakan pelanggan tidak bersedia untuk memberitahukan informasi terkait gender-nya."
   ]
  },
  {
   "cell_type": "code",
   "execution_count": null,
   "id": "8374bb8e-f615-451a-907e-9b78d0f81e79",
   "metadata": {},
   "outputs": [],
   "source": [
    "### Berdasarkan age\n",
    "byage_df = all_df.groupby(by=\"age_group\").customer_id.nunique().reset_index()\n",
    "byage_df.rename(columns={\n",
    "    \"customer_id\": \"customer_count\"\n",
    "}, inplace=True)\n",
    "byage_df\n",
    "byage_df['age_group'] = pd.Categorical(byage_df['age_group'], [\"Youth\", \"Adults\", \"Seniors\"])\n",
    "plt.figure(figsize=(10, 5))\n",
    "colors_ = [\"#D3D3D3\", \"#72BCD4\", \"#D3D3D3\", \"#D3D3D3\", \"#D3D3D3\"]\n",
    " \n",
    "sns.barplot(\n",
    "    y=\"customer_count\", \n",
    "    x=\"age_group\",\n",
    "    data=byage_df.sort_values(by=\"age_group\", ascending=False),\n",
    "    palette=colors_\n",
    ")\n",
    "plt.title(\"Number of Customer by Age\", loc=\"center\", fontsize=15)\n",
    "plt.ylabel(None)\n",
    "plt.xlabel(None)\n",
    "plt.tick_params(axis='x', labelsize=12)\n",
    "plt.show()"
   ]
  },
  {
   "cell_type": "code",
   "execution_count": null,
   "id": "5169552b-c878-43a3-a330-c8f98bf97f2f",
   "metadata": {},
   "outputs": [],
   "source": [
    "### Berdasarkan States\n",
    "bystate_df = all_df.groupby(by=\"state\").customer_id.nunique().reset_index()\n",
    "bystate_df.rename(columns={\n",
    "    \"customer_id\": \"customer_count\"\n",
    "}, inplace=True)\n",
    "bystate_df\n",
    "plt.figure(figsize=(10, 5))\n",
    "colors_ = [\"#72BCD4\", \"#D3D3D3\", \"#D3D3D3\", \"#D3D3D3\", \"#D3D3D3\", \"#D3D3D3\", \"#D3D3D3\", \"#D3D3D3\"]\n",
    "sns.barplot(\n",
    "    x=\"customer_count\", \n",
    "    y=\"state\",\n",
    "    data=bystate_df.sort_values(by=\"customer_count\", ascending=False),\n",
    "    palette=colors_\n",
    ")\n",
    "plt.title(\"Number of Customer by States\", loc=\"center\", fontsize=15)\n",
    "plt.ylabel(None)\n",
    "plt.xlabel(None)\n",
    "plt.tick_params(axis='y', labelsize=12)\n",
    "plt.show()"
   ]
  },
  {
   "cell_type": "markdown",
   "id": "a9708275-9d30-4a1d-a739-93519737280a",
   "metadata": {},
   "source": [
    "### RFM Analysis\n",
    "\n",
    "Untuk menjawab tiga pertanyaan analisis terakhir, kita bisa menggunakan teknik analisis lanjutan yang bernama RFM analysis. Sederhananya, RFM analysis merupakan salah satu metode yang umum digunakan untuk melakukan segmentasi pelanggan (mengelompokkan pelanggan ke dalam beberapa kategori) berdasarkan tiga parameter, yaitu recency, frequency, dan monetary.\n",
    "\n",
    "* Recency: parameter yang digunakan untuk melihat kapan terakhir seorang pelanggan melakukan transaksi.\n",
    "* Frequency: parameter ini digunakan untuk mengidentifikasi seberapa sering seorang pelanggan melakukan transaksi.\n",
    "* Monetary: parameter terakhir ini digunakan untuk mengidentifikasi seberapa besar revenue yang berasal dari pelanggan tersebut.\n"
   ]
  },
  {
   "cell_type": "code",
   "execution_count": null,
   "id": "db133ebb-0b3e-4b1e-bcae-101343982765",
   "metadata": {},
   "outputs": [],
   "source": [
    "rfm_df = all_df.groupby(by=\"customer_id\", as_index=False).agg({\n",
    "    \"order_date\": \"max\", # mengambil tanggal order terakhir\n",
    "    \"order_id\": \"nunique\", # menghitung jumlah order\n",
    "    \"total_price\": \"sum\" # menghitung jumlah revenue yang dihasilkan\n",
    "})\n",
    "rfm_df.columns = [\"customer_id\", \"max_order_timestamp\", \"frequency\", \"monetary\"]\n",
    " \n",
    "# menghitung kapan terakhir pelanggan melakukan transaksi (hari)\n",
    "rfm_df[\"max_order_timestamp\"] = rfm_df[\"max_order_timestamp\"].dt.date\n",
    "recent_date = orders_df[\"order_date\"].dt.date.max()\n",
    "rfm_df[\"recency\"] = rfm_df[\"max_order_timestamp\"].apply(lambda x: (recent_date - x).days)\n",
    " \n",
    "rfm_df.drop(\"max_order_timestamp\", axis=1, inplace=True)\n",
    "rfm_df.head()"
   ]
  },
  {
   "cell_type": "code",
   "execution_count": null,
   "id": "0cb7a5ae-23ac-4283-8088-ff9710193bf3",
   "metadata": {},
   "outputs": [],
   "source": [
    "fig, ax = plt.subplots(nrows=1, ncols=3, figsize=(30, 6))\n",
    " \n",
    "colors = [\"#72BCD4\", \"#72BCD4\", \"#72BCD4\", \"#72BCD4\", \"#72BCD4\"]\n",
    " \n",
    "sns.barplot(y=\"recency\", x=\"customer_id\", data=rfm_df.sort_values(by=\"recency\", ascending=True).head(5), palette=colors, ax=ax[0])\n",
    "ax[0].set_ylabel(None)\n",
    "ax[0].set_xlabel(None)\n",
    "ax[0].set_title(\"By Recency (days)\", loc=\"center\", fontsize=18)\n",
    "ax[0].tick_params(axis ='x', labelsize=15)\n",
    " \n",
    "sns.barplot(y=\"frequency\", x=\"customer_id\", data=rfm_df.sort_values(by=\"frequency\", ascending=False).head(5), palette=colors, ax=ax[1])\n",
    "ax[1].set_ylabel(None)\n",
    "ax[1].set_xlabel(None)\n",
    "ax[1].set_title(\"By Frequency\", loc=\"center\", fontsize=18)\n",
    "ax[1].tick_params(axis='x', labelsize=15)\n",
    " \n",
    "sns.barplot(y=\"monetary\", x=\"customer_id\", data=rfm_df.sort_values(by=\"monetary\", ascending=False).head(5), palette=colors, ax=ax[2])\n",
    "ax[2].set_ylabel(None)\n",
    "ax[2].set_xlabel(None)\n",
    "ax[2].set_title(\"By Monetary\", loc=\"center\", fontsize=18)\n",
    "ax[2].tick_params(axis='x', labelsize=15)\n",
    " \n",
    "plt.suptitle(\"Best Customer Based on RFM Parameters (customer_id)\", fontsize=20)\n",
    "plt.show()"
   ]
  },
  {
   "cell_type": "markdown",
   "id": "284c492d-c99e-44ca-831f-cb0e2dda4bed",
   "metadata": {},
   "source": [
    "### Save All Data"
   ]
  },
  {
   "cell_type": "code",
   "execution_count": null,
   "id": "9aa35d17-dfe5-4cd7-be7d-d5b98471a341",
   "metadata": {},
   "outputs": [],
   "source": [
    "all_df.to_csv('all_data.csv', index=False)"
   ]
  },
  {
   "cell_type": "code",
   "execution_count": null,
   "id": "36312501-1ace-4a9d-880e-9d29f0076fb0",
   "metadata": {},
   "outputs": [],
   "source": []
  }
 ],
 "metadata": {
  "kernelspec": {
   "display_name": "Python [conda env:belajar]",
   "language": "python",
   "name": "conda-env-belajar-py"
  },
  "language_info": {
   "codemirror_mode": {
    "name": "ipython",
    "version": 3
   },
   "file_extension": ".py",
   "mimetype": "text/x-python",
   "name": "python",
   "nbconvert_exporter": "python",
   "pygments_lexer": "ipython3",
   "version": "3.10.13"
  }
 },
 "nbformat": 4,
 "nbformat_minor": 5
}
